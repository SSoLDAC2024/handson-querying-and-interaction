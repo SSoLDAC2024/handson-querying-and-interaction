{
 "cells": [
  {
   "cell_type": "markdown",
   "metadata": {},
   "source": [
    "# 3.3 Transforming IFC to LBD graphs\n",
    "\n",
    "Of course, after the earlier exercises, where we loaded CSV data and create RDF graphs, and where we create RDF graphs from scratch, including also ontologies and querying and inspecting them.... we also want to Extract - Transform - Load IFC files and turn them into LBD graphs. While there are multiple converters available, in the below scripts, you will find out how you can do this yourself and edit it such that this works for your case and sake.\n",
    "\n",
    "## 1. IfcOpenShell\n",
    "For this exercise, we will rely on `ifcopenshell` as the dedicated Python library to load and read IFC files. If you want to know more about `ifcopenshell`, use the documentation that you can find here: https://docs.ifcopenshell.org/ifcopenshell-python.html.\n"
   ]
  },
  {
   "cell_type": "code",
   "execution_count": 1,
   "metadata": {},
   "outputs": [
    {
     "name": "stderr",
     "output_type": "stream",
     "text": [
      "No stream support: No module named 'lark'\n"
     ]
    }
   ],
   "source": [
    "import ifcopenshell as ios"
   ]
  },
  {
   "cell_type": "markdown",
   "metadata": {},
   "source": [
    "For this exercise, we will use the TUe Atlas BIM model, and try to transform it into an RDF LBD graph that can be used. This will lead to a bunch of Python code, that is incomplete of course, and can be completed and customized as preferred.\n",
    "\n",
    "- [Atlas_8_floor.rvt](data/Atlas_8_floor.rvt)\n",
    "- [Atlas_8_floor.ifc](data/Atlas_8_floor.ifc)\n",
    "- [Atlas_8_floor.ttl](data/Atlas_8_floor.ttl)\n",
    "\n",
    "Let's first load an IFC model in memory, using `ifcopenshell`, which is here abbreviated as `ios`."
   ]
  },
  {
   "cell_type": "code",
   "execution_count": 4,
   "metadata": {},
   "outputs": [],
   "source": [
    "model = ios.open(\"data/Atlas_8_floor.ifc\")"
   ]
  },
  {
   "cell_type": "markdown",
   "metadata": {},
   "source": [
    "Second, we prepare an `outputFile` where we can store the output. Below, this file is opened for writing. Don't forget to close the file when you are done, using `file.close()`."
   ]
  },
  {
   "cell_type": "code",
   "execution_count": 11,
   "metadata": {},
   "outputs": [],
   "source": [
    "outputfile = open(\"output/outputFile.ttl\", \"w\")"
   ]
  },
  {
   "cell_type": "markdown",
   "metadata": {},
   "source": [
    "Note that in the below code, we will write content directly to a file, without using any library other than `ifcopenshell` for reading the IFC content. Of course, it is also possible to rely on `rdflib` for writing the output. Also, one can directly output into a database, instead of passing by a file, using the methods shown earlier."
   ]
  },
  {
   "cell_type": "markdown",
   "metadata": {},
   "source": [
    "## 2. Writing the header with namespace information\n",
    "First content to be created in the `TTL` output is the header with all namespaces information. For that purpose, let's first some namespace variables that contain namespace strings that we will use frequently. "
   ]
  },
  {
   "cell_type": "code",
   "execution_count": 8,
   "metadata": {},
   "outputs": [
    {
     "name": "stdout",
     "output_type": "stream",
     "text": [
      "baseURI : http://linkedbuildingdata.net/ifc/resources20240610_070350/\n"
     ]
    }
   ],
   "source": [
    "RDF = \"https://www.w3.org/1999/02/22-rdf-syntax-ns#\"\n",
    "RDFS = \"https://www.w3.org/2000/01/rdf-schema#\"\n",
    "OWL = \"https://www.w3.org/2002/07/owl#\"\n",
    "XSD = \"https://www.w3.org/2001/XMLSchema#\"\n",
    "DCE = \"https://purl.org/dc/elements/1.1/\"\n",
    "VANN = \"https://purl.org/vocab/vann/\"\n",
    "CC = \"https://creativecommons.org/ns#\"\n",
    "BOT = \"https://w3id.org/bot#\"\n",
    "BEO = \"https://pi.pauwel.be/voc/buildingelement#\"\n",
    "MEP = \"https://pi.pauwel.be/voc/distributionelement#\"\n",
    "GEOM = \"https://w3id.org/geom#\"\n",
    "PROPS = \"https://w3id.org/props#\"\n",
    "\n",
    "from datetime import datetime\n",
    "now = datetime.now()\n",
    "current_time = now.strftime('%Y%m%d_%H%M%S')\n",
    "baseURI = \"https://linkedbuildingdata.net/ifc/resources\" + current_time + \"/\"\n",
    "print(\"baseURI : \" + baseURI)"
   ]
  },
  {
   "cell_type": "markdown",
   "metadata": {},
   "source": [
    "We then create a string that contains all the header information that we need. This string is then written to a file. Thus, we open a file in `write` mode (`w`), we then write to it, and we close it again. We can also open a file in `append` mode (`a`). Be careful what you use when. "
   ]
  },
  {
   "cell_type": "code",
   "execution_count": 16,
   "metadata": {},
   "outputs": [],
   "source": [
    "# creating a string to write\n",
    "s = \"# baseURI: \" + baseURI + \"\\n\"\n",
    "s+= \"@prefix inst: <\" + baseURI + \"> .\\n\"\n",
    "s+= \"@prefix rdf:  <\" + RDF + \"> .\\n\"\n",
    "s+= \"@prefix rdfs:  <\" + RDFS + \"> .\\n\"\n",
    "s+= \"@prefix xsd:  <\" + XSD + \"> .\\n\"\n",
    "s+= \"@prefix bot:  <\" + BOT + \"> .\\n\"\n",
    "s+= \"@prefix beo:  <\" + BEO + \"> .\\n\"\n",
    "s+= \"@prefix mep:  <\" + MEP + \"> .\\n\"\n",
    "s+= \"@prefix geom:  <\" + GEOM + \"> .\\n\"\n",
    "s+= \"@prefix props:  <\" + PROPS + \"> .\\n\\n\"\n",
    "\n",
    "s+= \"inst: rdf:type <https://www.w3.org/2002/07/owl#Ontology> .\\n\\n\"\n",
    "\n",
    "outputfile = open(\"output/outputFile.ttl\", \"w\")\n",
    "outputfile.write(s)\n",
    "outputfile.close()"
   ]
  },
  {
   "cell_type": "markdown",
   "metadata": {},
   "source": [
    "You can always restart file writing by emptying the file, as follows:"
   ]
  },
  {
   "cell_type": "code",
   "execution_count": 14,
   "metadata": {},
   "outputs": [],
   "source": [
    "open('output/outputfile.ttl', 'w').close()"
   ]
  },
  {
   "cell_type": "markdown",
   "metadata": {},
   "source": [
    "## 3. Writing out the sites in the IFC file.\n",
    "We will start with something straightforward, namely the `IfcSite` elements in the model. These have to be parsed, and then written to the `TTL` file as `bot:Site` instances."
   ]
  },
  {
   "cell_type": "code",
   "execution_count": 18,
   "metadata": {},
   "outputs": [],
   "source": [
    "output = \"\"\n",
    "for s in model.by_type(\"IfcSite\"):                \n",
    "    output += \"inst:site_\"+str(s.id()) + \"\\n\"\n",
    "    output += \"\\ta bot:Site ;\" + \"\\n\"\n",
    "    if(s.Name):\n",
    "        output += \"\\trdfs:label \\\"\"+s.Name+\"\\\"^^xsd:string ;\" + \"\\n\"\n",
    "    if(s.Description):\n",
    "        output += \"\\trdfs:comment \\\"\"+s.Description+\"\\\"^^xsd:string ;\" + \"\\n\"        \n",
    "    output += \"\\tbot:hasGuid \\\"\"+ ios.guid.expand(s.GlobalId) +\"\\\"^^xsd:string ;\" + \"\\n\"\n",
    "    output += \"\\tprops:hasCompressedGuid \\\"\"+ s.GlobalId +\"\\\"^^xsd:string \"\n",
    "    for reldec in s.IsDecomposedBy:\n",
    "        if reldec is not None:\n",
    "            for b in reldec.RelatedObjects:\n",
    "                output += \";\\n\"\n",
    "                output += \"\\tbot:hasBuilding inst:building_\"+ str(b.id()) + \" \"\n",
    "    output += \". \\n\\n\"\n",
    "\n",
    "#return output\n",
    "outputfile = open(\"output/outputFile.ttl\", \"a\")\n",
    "outputfile.write(output)\n",
    "outputfile.close()"
   ]
  },
  {
   "cell_type": "markdown",
   "metadata": {},
   "source": [
    "There we go, we have ourselves a site in the RDF graph! Let's add some more elements!"
   ]
  },
  {
   "cell_type": "markdown",
   "metadata": {},
   "source": [
    "## 4. Adding some properties\n",
    "While the site looks nice in RDF, we are missing the properties that it has. We will need those properties, also for other elements in the graph. So let's try to add those first. Since we will do this a couple of times, let's create appropriate functions to do this. These should clearly be tested and expanded for proper use in a larger setting.\n",
    "\n",
    "In the below function, we assume that this is executed as part of a method that writes out an element in RDF already. The content is therefore appended to an existing `subject` node in RDF, and it lacks this first `subject` element as well as the closing dot (`.`). Try it to understand it."
   ]
  },
  {
   "cell_type": "code",
   "execution_count": 19,
   "metadata": {},
   "outputs": [],
   "source": [
    "def cleanString(name):\n",
    "    name = ''.join(x for x in name.title() if not x.isspace())\n",
    "    name = name.replace('\\\\', '')\n",
    "    name = name.replace('/', '')\n",
    "    return name\n",
    "\n",
    "def print_properties(properties, output):    \n",
    "    for name, value in properties.items():   \n",
    "        if name == \"id\":\n",
    "            continue     \n",
    "        name = cleanString(name)\n",
    "        output += \";\\n\"\n",
    "        if isinstance(value, int):          \n",
    "            output += \"\\tprops:\"+name+\" \\\"\"+ str(value) +\"\\\"^^xsd:int \"\n",
    "        elif isinstance(value, float):    \n",
    "            output += \"\\tprops:\"+name+\" \\\"\"+ str(value) +\"\\\"^^xsd:double \"\n",
    "        else:           \n",
    "            output += \"\\tprops:\"+name+\" \\\"\"+ str(value) +\"\\\"^^xsd:string \"\n",
    "    return output"
   ]
  },
  {
   "cell_type": "markdown",
   "metadata": {},
   "source": [
    "Let's try our function and write some site properties."
   ]
  },
  {
   "cell_type": "code",
   "execution_count": 20,
   "metadata": {},
   "outputs": [],
   "source": [
    "output = \"\"\n",
    "for s in model.by_type(\"IfcSite\"): \n",
    "    site_psets = ios.util.element.get_psets(s)\n",
    "    for name, properties in site_psets.items():\n",
    "        output = print_properties(properties, output)\n",
    "\n",
    "outputfile = open(\"output/outputFile.ttl\", \"a\")\n",
    "outputfile.write(output)\n",
    "outputfile.close()"
   ]
  },
  {
   "cell_type": "markdown",
   "metadata": {},
   "source": [
    "When inspecting the output file, we clearly see incorrect output. This TTL is corrupt and not usable as such. This is what we anticipated. You can see in the below printout what went wrong. The content needs to be *inside* the block that describes the site, not outside this block.\n",
    "\n",
    "<img src=\"figures/wrongsiteTTL.png\" width=\"600\" />"
   ]
  },
  {
   "cell_type": "markdown",
   "metadata": {},
   "source": [
    "So we will clear our file content, write the header again, and rewrite the correct file content: site with properties."
   ]
  },
  {
   "cell_type": "code",
   "execution_count": 22,
   "metadata": {},
   "outputs": [],
   "source": [
    "# creating a string to write\n",
    "s = \"# baseURI: \" + baseURI + \"\\n\"\n",
    "s+= \"@prefix inst: <\" + baseURI + \"> .\\n\"\n",
    "s+= \"@prefix rdf:  <\" + RDF + \"> .\\n\"\n",
    "s+= \"@prefix rdfs:  <\" + RDFS + \"> .\\n\"\n",
    "s+= \"@prefix xsd:  <\" + XSD + \"> .\\n\"\n",
    "s+= \"@prefix bot:  <\" + BOT + \"> .\\n\"\n",
    "s+= \"@prefix beo:  <\" + BEO + \"> .\\n\"\n",
    "s+= \"@prefix mep:  <\" + MEP + \"> .\\n\"\n",
    "s+= \"@prefix geom:  <\" + GEOM + \"> .\\n\"\n",
    "s+= \"@prefix props:  <\" + PROPS + \"> .\\n\\n\"\n",
    "\n",
    "s+= \"inst: rdf:type <http://www.w3.org/2002/07/owl#Ontology> .\\n\\n\"\n",
    "\n",
    "outputfile = open(\"output/outputFile.ttl\", \"w\")\n",
    "outputfile.write(s)\n",
    "outputfile.close()"
   ]
  },
  {
   "cell_type": "code",
   "execution_count": 23,
   "metadata": {},
   "outputs": [],
   "source": [
    "output = \"\"\n",
    "for s in model.by_type(\"IfcSite\"):                \n",
    "    output += \"inst:site_\"+str(s.id()) + \"\\n\"\n",
    "    output += \"\\ta bot:Site ;\" + \"\\n\"\n",
    "    if(s.Name):\n",
    "        output += \"\\trdfs:label \\\"\"+s.Name+\"\\\"^^xsd:string ;\" + \"\\n\"\n",
    "    if(s.Description):\n",
    "        output += \"\\trdfs:comment \\\"\"+s.Description+\"\\\"^^xsd:string ;\" + \"\\n\"        \n",
    "    output += \"\\tbot:hasGuid \\\"\"+ ios.guid.expand(s.GlobalId) +\"\\\"^^xsd:string ;\" + \"\\n\"\n",
    "    output += \"\\tprops:hasCompressedGuid \\\"\"+ s.GlobalId +\"\\\"^^xsd:string \"\n",
    "    for reldec in s.IsDecomposedBy:\n",
    "        if reldec is not None:\n",
    "            for b in reldec.RelatedObjects:\n",
    "                output += \";\\n\"\n",
    "                output += \"\\tbot:hasBuilding inst:building_\"+ str(b.id()) + \" \"    \n",
    "    site_psets = ios.util.element.get_psets(s)\n",
    "    for name, properties in site_psets.items():\n",
    "        output = print_properties(properties, output)\n",
    "    output += \". \\n\\n\"\n",
    "\n",
    "#return output\n",
    "outputfile = open(\"output/outputFile.ttl\", \"a\")\n",
    "outputfile.write(output)\n",
    "outputfile.close()"
   ]
  },
  {
   "cell_type": "markdown",
   "metadata": {},
   "source": [
    "Let's check our output again. This looks a lot better!\n",
    "\n",
    "<img src=\"figures/correctsiteTTL.png\" width=\"600\" />"
   ]
  },
  {
   "cell_type": "markdown",
   "metadata": {},
   "source": [
    "## 5. Writing buildings, storeys, spaces, and a range of elements\n",
    "We got the basics; the rest is just 'more of the same', which does not mean that it is easy, as all information mainly needs to be parsed correctly from the IFC file and transformed appropriately into an RDF graph that follows a meaningful set of ontologies. This is nevertheless not that different from any other Extract-Transform-Load (ETL) procedure. \n",
    "\n",
    "In the below snippets, we will add more elements, using the same methods that we used before. Actually, let's try to write some methods that we can re-use more easily."
   ]
  },
  {
   "cell_type": "code",
   "execution_count": 24,
   "metadata": {},
   "outputs": [],
   "source": [
    "def writeBuildings(model):\n",
    "    output = \"\"\n",
    "    for b in model.by_type(\"IfcBuilding\"):                \n",
    "        output += \"inst:building_\"+str(b.id()) + \"\\n\"\n",
    "        output += \"\\ta bot:Building ;\" + \"\\n\"\n",
    "        if(b.Name):\n",
    "            output += \"\\trdfs:label \\\"\"+b.Name+\"\\\"^^xsd:string ;\" + \"\\n\"\n",
    "        if(b.Description):\n",
    "            output += \"\\trdfs:comment \\\"\"+b.Description+\"\\\"^^xsd:string ;\" + \"\\n\"        \n",
    "        output += \"\\tbot:hasGuid \\\"\"+ ios.guid.expand(b.GlobalId) +\"\\\"^^xsd:string ;\" + \"\\n\"\n",
    "        output += \"\\tprops:hasCompressedGuid \\\"\"+ b.GlobalId +\"\\\"^^xsd:string \"\n",
    "        for reldec in b.IsDecomposedBy:\n",
    "            if reldec is not None:\n",
    "                for st in reldec.RelatedObjects:\n",
    "                    output += \";\\n\"\n",
    "                    output += \"\\tbot:hasStorey inst:storey_\"+ str(st.id()) + \" \"\n",
    "        psets = ios.util.element.get_psets(b)\n",
    "        for name, properties in psets.items():\n",
    "            output = print_properties(properties, output)                             \n",
    "                \n",
    "        output += \". \\n\\n\"\n",
    "    return output"
   ]
  },
  {
   "cell_type": "code",
   "execution_count": 25,
   "metadata": {},
   "outputs": [],
   "source": [
    "def writeStoreys(model):\n",
    "    output = \"\"\n",
    "    for b in model.by_type(\"IfcBuildingStorey\"):                \n",
    "        output += \"inst:storey_\"+str(b.id()) + \"\\n\"\n",
    "        output += \"\\ta bot:Storey ;\" + \"\\n\"\n",
    "        if(b.Name):\n",
    "            output += \"\\trdfs:label \\\"\"+b.Name+\"\\\"^^xsd:string ;\" + \"\\n\"\n",
    "        if(b.Description):\n",
    "            output += \"\\trdfs:comment \\\"\"+b.Description+\"\\\"^^xsd:string ;\" + \"\\n\"        \n",
    "        output += \"\\tbot:hasGuid \\\"\"+ ios.guid.expand(b.GlobalId) +\"\\\"^^xsd:string ;\" + \"\\n\"\n",
    "        output += \"\\tprops:hasCompressedGuid \\\"\"+ b.GlobalId +\"\\\"^^xsd:string \"\n",
    "        for reldec in b.IsDecomposedBy:\n",
    "            if reldec is not None:\n",
    "                for st in reldec.RelatedObjects:\n",
    "                    output += \";\\n\"\n",
    "                    output += \"\\tbot:hasSpace inst:space_\"+ str(st.id()) + \" \"\n",
    "        for relcontains in b.ContainsElements:\n",
    "            if relcontains is not None:\n",
    "                for st in relcontains.RelatedElements:\n",
    "                    output += \";\\n\"\n",
    "                    output += \"\\tbot:containsElement inst:element_\"+ str(st.id()) + \" \"\n",
    "\n",
    "        psets = ios.util.element.get_psets(b)\n",
    "        for name, properties in psets.items():\n",
    "            output = print_properties(properties, output)                             \n",
    "                \n",
    "        output += \". \\n\\n\"\n",
    "    return output"
   ]
  },
  {
   "cell_type": "code",
   "execution_count": 32,
   "metadata": {},
   "outputs": [],
   "source": [
    "def writeSpaces(model):\n",
    "    output = \"\"\n",
    "    for b in model.by_type(\"IfcSpace\"):                \n",
    "        output += \"inst:space_\"+str(b.id()) + \"\\n\"\n",
    "        output += \"\\ta bot:Space ;\" + \"\\n\"\n",
    "        if(b.Name):\n",
    "            output += \"\\trdfs:label \\\"\"+b.Name+\"\\\"^^xsd:string ;\" + \"\\n\"\n",
    "        if(b.Description):\n",
    "            output += \"\\trdfs:comment \\\"\"+b.Description+\"\\\"^^xsd:string ;\" + \"\\n\"        \n",
    "        output += \"\\tbot:hasGuid \\\"\"+ ios.guid.expand(b.GlobalId) +\"\\\"^^xsd:string ;\" + \"\\n\"\n",
    "        output += \"\\tprops:hasCompressedGuid \\\"\"+ b.GlobalId +\"\\\"^^xsd:string \"\n",
    "        for relbounded in b.BoundedBy:\n",
    "            if relbounded is not None:\n",
    "                st = relbounded.RelatedBuildingElement\n",
    "                if st is not None:\n",
    "                    output += \";\\n\"\n",
    "                    output += \"\\tbot:adjacentElement inst:element_\"+ str(st.id()) + \" \"\n",
    "        for relcontains in b.ContainsElements:\n",
    "            if relcontains is not None:\n",
    "                counter = 0\n",
    "                for st in relcontains.RelatedElements:\n",
    "                    if counter == 0:\n",
    "                        output += \";\\n\"\n",
    "                        output += \"\\tbot:containsElement inst:element_\"+ str(st.id()) + \" \"\n",
    "                        counter+=1\n",
    "                    else:\n",
    "                        output += \", inst:element_\"+ str(st.id()) + \" \"\n",
    "                        counter+=1\n",
    "\n",
    "        psets = ios.util.element.get_psets(b)\n",
    "        for name, properties in psets.items():\n",
    "            output = print_properties(properties, output)                    \n",
    "                \n",
    "        output += \". \\n\\n\"\n",
    "    return output"
   ]
  },
  {
   "cell_type": "code",
   "execution_count": 27,
   "metadata": {},
   "outputs": [],
   "source": [
    "def writeElements(model):\n",
    "    output = \"\"\n",
    "    for b in model.by_type(\"IfcElement\"):                \n",
    "        output += \"inst:element_\"+str(b.id()) + \"\\n\"\n",
    "        output += \"\\ta bot:Element ;\" + \"\\n\"\n",
    "        if(b.Name):\n",
    "            output += \"\\trdfs:label \\\"\"+b.Name+\"\\\"^^xsd:string ;\" + \"\\n\"\n",
    "        if(b.Description):\n",
    "            output += \"\\trdfs:comment \\\"\"+b.Description+\"\\\"^^xsd:string ;\" + \"\\n\"        \n",
    "        output += \"\\tbot:hasGuid \\\"\"+ ios.guid.expand(b.GlobalId) +\"\\\"^^xsd:string ;\" + \"\\n\"\n",
    "        output += \"\\tprops:hasCompressedGuid \\\"\"+ b.GlobalId +\"\\\"^^xsd:string \"\n",
    "\n",
    "        for relvoids in b.HasOpenings:\n",
    "            if relvoids is not None:\n",
    "                st = relvoids.RelatedOpeningElement\n",
    "                for relfills in st.HasFillings:\n",
    "                    if relfills is not None:\n",
    "                        filler = relfills.RelatedBuildingElement\n",
    "                        output += \";\\n\"\n",
    "                        output += \"\\tbot:hostsElement inst:element_\"+ str(filler.id()) + \" \"\n",
    "\n",
    "        for relvoids in b.HasOpenings:\n",
    "            if relvoids is not None:\n",
    "                st = relvoids.RelatedOpeningElement\n",
    "                for relfills in st.HasFillings:\n",
    "                    if relfills is not None:\n",
    "                        filler = relfills.RelatedBuildingElement\n",
    "                        output += \";\\n\"\n",
    "                        output += \"\\tbot:hostsElement inst:element_\"+ str(filler.id()) + \" \"\n",
    "\n",
    "        psets = ios.util.element.get_psets(b)\n",
    "        for name, properties in psets.items():\n",
    "            output = print_properties(properties, output)                             \n",
    "                \n",
    "        output += \". \\n\\n\"\n",
    "    return output"
   ]
  },
  {
   "cell_type": "markdown",
   "metadata": {},
   "source": [
    "Let's see where these functions will bring us. In principle, they can be used for printing out all buildings, storeys, spaces, and elements in reasonable detail. Let's execute them one by one to see what is added to the output file. "
   ]
  },
  {
   "cell_type": "code",
   "execution_count": 28,
   "metadata": {},
   "outputs": [],
   "source": [
    "# be careful, this filewriter is set to append mode. Running this again and again will add the same information over and over again.\n",
    "outputfile = open(\"output/outputFile.ttl\", \"a\")\n",
    "outputString = writeBuildings(model)\n",
    "outputfile.write(outputString)\n",
    "outputfile.close()"
   ]
  },
  {
   "cell_type": "code",
   "execution_count": 29,
   "metadata": {},
   "outputs": [],
   "source": [
    "# storeys\n",
    "outputfile = open(\"output/outputFile.ttl\", \"a\")\n",
    "outputString = writeStoreys(model)\n",
    "outputfile.write(outputString)\n",
    "outputfile.close()"
   ]
  },
  {
   "cell_type": "code",
   "execution_count": 33,
   "metadata": {},
   "outputs": [],
   "source": [
    "# spaces\n",
    "outputfile = open(\"output/outputFile.ttl\", \"a\")\n",
    "outputString = writeSpaces(model)\n",
    "outputfile.write(outputString)\n",
    "outputfile.close()"
   ]
  },
  {
   "cell_type": "markdown",
   "metadata": {},
   "source": [
    "**Note: executing this function can take a long time** when doing this with a model that has plenty of elements, and even more properties. There are a number of ways in which you can improve this."
   ]
  },
  {
   "cell_type": "code",
   "execution_count": 34,
   "metadata": {},
   "outputs": [],
   "source": [
    "# elements\n",
    "outputfile = open(\"output/outputFile.ttl\", \"a\")\n",
    "outputString = writeElements(model)\n",
    "outputfile.write(outputString)\n",
    "outputfile.close()"
   ]
  },
  {
   "cell_type": "markdown",
   "metadata": {},
   "source": [
    "## 6. Future work \n",
    "We now have the basic structure of an IFC file transformed into an RDF file. \n",
    "\n",
    "Further additions that can be made, are:\n",
    "- adding zoning information\n",
    "- improving the way in which properties are stored\n",
    "- adding geometry representations\n",
    "- adding materials and quantities\n"
   ]
  }
 ],
 "metadata": {
  "kernelspec": {
   "display_name": "Python 3",
   "language": "python",
   "name": "python3"
  },
  "language_info": {
   "codemirror_mode": {
    "name": "ipython",
    "version": 3
   },
   "file_extension": ".py",
   "mimetype": "text/x-python",
   "name": "python",
   "nbconvert_exporter": "python",
   "pygments_lexer": "ipython3",
   "version": "3.9.1"
  }
 },
 "nbformat": 4,
 "nbformat_minor": 2
}
