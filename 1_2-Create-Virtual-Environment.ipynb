{
 "cells": [
  {
   "cell_type": "markdown",
   "metadata": {},
   "source": [
    "# 1.2 Create Virtual Environment\n",
    "If you are working locally, then it is recommended to work with a local [virtual environment](https://docs.python.org/3/library/venv.html). "
   ]
  },
  {
   "cell_type": "markdown",
   "metadata": {},
   "source": [
    "## 1. How to create a Virtual Environment\n",
    "A virtual environment in Python is an isolated environment that allows you to manage and install packages independently of your system-wide Python installation. This isolation helps to avoid conflicts between dependencies and ensures that your projects have access to the specific versions of packages they need. Here are some key points about virtual environments:\n",
    "\n",
    "### Key Features and Benefits:\n",
    "\n",
    "1. **Isolation**: Each virtual environment has its own set of installed packages and dependencies, separate from other environments and the system Python installation.\n",
    "\n",
    "2. **Dependency Management**: You can install and manage project-specific dependencies without affecting other projects or the global Python installation.\n",
    "\n",
    "3. **Reproducibility**: Ensures that a project can be replicated on another system with the same set of dependencies, making it easier to share projects with others or deploy them on different machines.\n",
    "\n",
    "4. **Version Control**: Allows you to test projects with different versions of packages without interfering with other projects.\n",
    "\n",
    "### How to Create and Use a Virtual Environment:\n",
    "\n",
    "1. **Creating a Virtual Environment**:\n",
    "   - Using `venv` (included in Python 3.3 and above):\n",
    "     ```sh\n",
    "     python -m venv myenv\n",
    "     ```\n",
    "   - Using `virtualenv` (requires installation):\n",
    "     ```sh\n",
    "     pip install virtualenv\n",
    "     virtualenv myenv\n",
    "     ```\n",
    "\n",
    "2. **Activating the Virtual Environment**:\n",
    "   - On Windows:\n",
    "     ```sh\n",
    "     myenv\\Scripts\\activate\n",
    "     ```\n",
    "   - On macOS and Linux:\n",
    "     ```sh\n",
    "     source myenv/bin/activate\n",
    "     ```\n",
    "\n",
    "3. **Installing Packages**:\n",
    "   - Once the virtual environment is activated, you can install packages using `pip`:\n",
    "     ```sh\n",
    "     pip install package_name\n",
    "     ```\n",
    "\n",
    "4. **Deactivating the Virtual Environment**:\n",
    "   - To deactivate the virtual environment and return to the global Python environment:\n",
    "     ```sh\n",
    "     deactivate\n",
    "     ```\n",
    "\n",
    "5. **Deleting the Virtual Environment**:\n",
    "   - To remove a virtual environment, simply delete the directory:\n",
    "     ```sh\n",
    "     rm -rf myenv\n",
    "     ```\n",
    "\n",
    "### Example Workflow:\n",
    "\n",
    "1. Create a new virtual environment for your project:\n",
    "   ```sh\n",
    "   python -m venv myprojectenv\n",
    "   ```\n",
    "\n",
    "2. Activate the virtual environment:\n",
    "   ```sh\n",
    "   source myprojectenv/bin/activate  # macOS/Linux\n",
    "   myprojectenv\\Scripts\\activate     # Windows\n",
    "   ```\n",
    "\n",
    "3. Install required packages:\n",
    "   ```sh\n",
    "   pip install requests numpy\n",
    "   ```\n",
    "\n",
    "4. Work on your project, knowing the dependencies are isolated.\n",
    "\n",
    "5. Deactivate the environment when done:\n",
    "   ```sh\n",
    "   deactivate\n",
    "   ```\n",
    "\n",
    "Using virtual environments is a best practice for Python development, especially when managing multiple projects or working in a team."
   ]
  },
  {
   "cell_type": "markdown",
   "metadata": {},
   "source": [
    "## 2. Required packages\n",
    "For this tutorial, the following packages are needed. If you are working locally, then install them preferably in your active virtual environment. If you are working in Google Colab, then install them in that Google Colab environment. As a third option, you can install them in your local machine."
   ]
  },
  {
   "cell_type": "markdown",
   "metadata": {},
   "source": [
    "Check if your current python environment has the required packages for this tutorial installed:"
   ]
  },
  {
   "cell_type": "code",
   "execution_count": 26,
   "metadata": {},
   "outputs": [],
   "source": [
    "import rdflib"
   ]
  },
  {
   "cell_type": "markdown",
   "metadata": {},
   "source": [
    "If there is a **ModuleNotFoundError**, then install the missing module, using `pip install`:"
   ]
  },
  {
   "cell_type": "code",
   "execution_count": 27,
   "metadata": {},
   "outputs": [
    {
     "name": "stdout",
     "output_type": "stream",
     "text": [
      "Requirement already satisfied: rdflib in c:\\users\\20194060\\appdata\\local\\programs\\python\\python312\\lib\\site-packages (7.0.0)\n",
      "Requirement already satisfied: isodate<0.7.0,>=0.6.0 in c:\\users\\20194060\\appdata\\local\\programs\\python\\python312\\lib\\site-packages (from rdflib) (0.6.1)\n",
      "Requirement already satisfied: pyparsing<4,>=2.1.0 in c:\\users\\20194060\\appdata\\local\\programs\\python\\python312\\lib\\site-packages (from rdflib) (3.1.2)\n",
      "Requirement already satisfied: six in c:\\users\\20194060\\appdata\\roaming\\python\\python312\\site-packages (from isodate<0.7.0,>=0.6.0->rdflib) (1.16.0)\n",
      "Note: you may need to restart the kernel to use updated packages.\n"
     ]
    }
   ],
   "source": [
    "pip install rdflib"
   ]
  },
  {
   "cell_type": "markdown",
   "metadata": {},
   "source": [
    "Also the following packages need to be installed:"
   ]
  },
  {
   "cell_type": "code",
   "execution_count": 28,
   "metadata": {},
   "outputs": [
    {
     "ename": "SyntaxError",
     "evalue": "invalid syntax (430798231.py, line 2)",
     "output_type": "error",
     "traceback": [
      "\u001b[1;36m  Cell \u001b[1;32mIn[28], line 2\u001b[1;36m\u001b[0m\n\u001b[1;33m    pip install owlrl\u001b[0m\n\u001b[1;37m        ^\u001b[0m\n\u001b[1;31mSyntaxError\u001b[0m\u001b[1;31m:\u001b[0m invalid syntax\n"
     ]
    }
   ],
   "source": [
    "# owlrl allows to do inference (reasoning)\n",
    "pip install owlrl\n",
    "\n",
    "# ifcopenshell allows to work with IFC files\n",
    "pip install ifcopenshell\n",
    "\n",
    "# pandas allows to work with Excel and CSV files\n",
    "pip install pandas\n",
    "\n",
    "# requests allows to send HTTP requests\n",
    "pip install requests"
   ]
  },
  {
   "cell_type": "markdown",
   "metadata": {},
   "source": [
    "## 3. Working Directory"
   ]
  },
  {
   "cell_type": "markdown",
   "metadata": {},
   "source": [
    "Check the current path your are working in"
   ]
  },
  {
   "cell_type": "code",
   "execution_count": 7,
   "metadata": {},
   "outputs": [
    {
     "name": "stdout",
     "output_type": "stream",
     "text": [
      "Your are in path:\n"
     ]
    },
    {
     "data": {
      "text/plain": [
       "'c:\\\\Users\\\\20194060\\\\Desktop\\\\Git\\\\pipauwel\\\\SummerSchoolOfLDAC\\\\Notebooks'"
      ]
     },
     "execution_count": 7,
     "metadata": {},
     "output_type": "execute_result"
    }
   ],
   "source": [
    "import os\n",
    "print( \"Your are in path:\" )\n",
    "os.getcwd()"
   ]
  }
 ],
 "metadata": {
  "kernelspec": {
   "display_name": "Python 3",
   "language": "python",
   "name": "python3"
  },
  "language_info": {
   "codemirror_mode": {
    "name": "ipython",
    "version": 3
   },
   "file_extension": ".py",
   "mimetype": "text/x-python",
   "name": "python",
   "nbconvert_exporter": "python",
   "pygments_lexer": "ipython3",
   "version": "3.12.0"
  }
 },
 "nbformat": 4,
 "nbformat_minor": 2
}
