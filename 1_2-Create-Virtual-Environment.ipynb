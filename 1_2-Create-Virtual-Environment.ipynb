{
 "cells": [
  {
   "cell_type": "markdown",
   "metadata": {},
   "source": [
    "# 1.2 Create Virtual Environment\n",
    "If you are working locally, then it is recommended to work with a local [virtual environment](https://docs.python.org/3/library/venv.html). "
   ]
  },
  {
   "cell_type": "markdown",
   "metadata": {},
   "source": [
    "## 1. How to create a Virtual Environment\n",
    "A virtual environment in Python is an isolated environment that allows you to manage and install packages independently of your system-wide Python installation. This isolation helps to avoid conflicts between dependencies and ensures that your projects have access to the specific versions of packages they need. Here are some key points about virtual environments:\n",
    "\n",
    "### Key Features and Benefits:\n",
    "\n",
    "1. **Isolation**: Each virtual environment has its own set of installed packages and dependencies, separate from other environments and the system Python installation.\n",
    "\n",
    "2. **Dependency Management**: You can install and manage project-specific dependencies without affecting other projects or the global Python installation.\n",
    "\n",
    "3. **Reproducibility**: Ensures that a project can be replicated on another system with the same set of dependencies, making it easier to share projects with others or deploy them on different machines.\n",
    "\n",
    "4. **Version Control**: Allows you to test projects with different versions of packages without interfering with other projects.\n",
    "\n",
    "### How to Create and Use a Virtual Environment:\n",
    "\n",
    "1. **Creating a Virtual Environment**:\n",
    "   - Using `venv` (included in Python 3.3 and above):\n",
    "     ```sh\n",
    "     python -m venv myenv\n",
    "     ```\n",
    "   - Using `virtualenv` (requires installation):\n",
    "     ```sh\n",
    "     pip install virtualenv\n",
    "     virtualenv myenv\n",
    "     ```\n",
    "\n",
    "2. **Activating the Virtual Environment**:\n",
    "   - On Windows:\n",
    "     ```sh\n",
    "     myenv\\Scripts\\activate\n",
    "     ```\n",
    "   - On macOS and Linux:\n",
    "     ```sh\n",
    "     source myenv/bin/activate\n",
    "     ```\n",
    "\n",
    "3. **Installing Packages**:\n",
    "   - Once the virtual environment is activated, you can install packages using `pip`:\n",
    "     ```sh\n",
    "     pip install package_name\n",
    "     ```\n",
    "\n",
    "4. **Deactivating the Virtual Environment**:\n",
    "   - To deactivate the virtual environment and return to the global Python environment:\n",
    "     ```sh\n",
    "     deactivate\n",
    "     ```\n",
    "\n",
    "5. **Deleting the Virtual Environment**:\n",
    "   - To remove a virtual environment, simply delete the directory:\n",
    "     ```sh\n",
    "     rm -rf myenv\n",
    "     ```\n",
    "\n",
    "### Example Workflow:\n",
    "\n",
    "1. Create a new virtual environment for your project:\n",
    "   ```sh\n",
    "   python -m venv myprojectenv\n",
    "   ```\n",
    "\n",
    "2. Activate the virtual environment:\n",
    "   ```sh\n",
    "   source myprojectenv/bin/activate  # macOS/Linux\n",
    "   myprojectenv\\Scripts\\activate     # Windows\n",
    "   ```\n",
    "\n",
    "3. Install required packages:\n",
    "   ```sh\n",
    "   pip install requests numpy\n",
    "   ```\n",
    "\n",
    "4. Work on your project, knowing the dependencies are isolated.\n",
    "\n",
    "5. Deactivate the environment when done:\n",
    "   ```sh\n",
    "   deactivate\n",
    "   ```\n",
    "\n",
    "Using virtual environments is a best practice for Python development, especially when managing multiple projects or working in a team."
   ]
  },
  {
   "cell_type": "markdown",
   "metadata": {},
   "source": [
    "## 2. Required packages\n",
    "For this tutorial, the following packages are needed. If you are working locally, then install them preferably in your active virtual environment. If you are working in Google Colab, then install them in that Google Colab environment. As a third option, you can install them in your local machine."
   ]
  },
  {
   "cell_type": "markdown",
   "metadata": {},
   "source": [
    "Check if your current python environment has the required packages for this tutorial installed:"
   ]
  },
  {
   "cell_type": "code",
   "execution_count": 6,
   "metadata": {},
   "outputs": [],
   "source": [
    "import rdflib"
   ]
  },
  {
   "cell_type": "markdown",
   "metadata": {},
   "source": [
    "If there is a **ModuleNotFoundError**, then install the missing module, using `pip install`:"
   ]
  },
  {
   "cell_type": "code",
   "execution_count": 7,
   "metadata": {},
   "outputs": [
    {
     "name": "stdout",
     "output_type": "stream",
     "text": [
      "Requirement already satisfied: rdflib in /Users/stefan/Repositories/FireBIM/SSolDAC2024/venv/lib/python3.12/site-packages (7.0.0)\n",
      "Requirement already satisfied: isodate<0.7.0,>=0.6.0 in /Users/stefan/Repositories/FireBIM/SSolDAC2024/venv/lib/python3.12/site-packages (from rdflib) (0.6.1)\n",
      "Requirement already satisfied: pyparsing<4,>=2.1.0 in /Users/stefan/Repositories/FireBIM/SSolDAC2024/venv/lib/python3.12/site-packages (from rdflib) (3.1.2)\n",
      "Requirement already satisfied: six in /Users/stefan/Repositories/FireBIM/SSolDAC2024/venv/lib/python3.12/site-packages (from isodate<0.7.0,>=0.6.0->rdflib) (1.16.0)\n",
      "Note: you may need to restart the kernel to use updated packages.\n"
     ]
    }
   ],
   "source": [
    "pip install rdflib"
   ]
  },
  {
   "cell_type": "markdown",
   "metadata": {},
   "source": [
    "Also the following packages need to be installed:\n",
    "\n",
    "- `ifcopenshell` allows to work with IFC files\n",
    "- `pandas` allows to work with Excel and CSV files\n",
    "- `requests` allows to send HTTP requests\n",
    "- `owlrl` allows to do inference (reasoning)"
   ]
  },
  {
   "cell_type": "code",
   "execution_count": 8,
   "metadata": {},
   "outputs": [
    {
     "name": "stdout",
     "output_type": "stream",
     "text": [
      "Requirement already satisfied: ifcopenshell in /Users/stefan/Repositories/FireBIM/SSolDAC2024/venv/lib/python3.12/site-packages (0.7.0.240521)\n",
      "Requirement already satisfied: pandas in /Users/stefan/Repositories/FireBIM/SSolDAC2024/venv/lib/python3.12/site-packages (2.2.2)\n",
      "Requirement already satisfied: requests in /Users/stefan/Repositories/FireBIM/SSolDAC2024/venv/lib/python3.12/site-packages (2.32.3)\n",
      "Requirement already satisfied: owlrl in /Users/stefan/Repositories/FireBIM/SSolDAC2024/venv/lib/python3.12/site-packages (6.0.2)\n",
      "Requirement already satisfied: mathutils in /Users/stefan/Repositories/FireBIM/SSolDAC2024/venv/lib/python3.12/site-packages (from ifcopenshell) (3.3.0)\n",
      "Requirement already satisfied: shapely in /Users/stefan/Repositories/FireBIM/SSolDAC2024/venv/lib/python3.12/site-packages (from ifcopenshell) (2.0.4)\n",
      "Requirement already satisfied: numpy in /Users/stefan/Repositories/FireBIM/SSolDAC2024/venv/lib/python3.12/site-packages (from ifcopenshell) (1.26.4)\n",
      "Requirement already satisfied: isodate in /Users/stefan/Repositories/FireBIM/SSolDAC2024/venv/lib/python3.12/site-packages (from ifcopenshell) (0.6.1)\n",
      "Requirement already satisfied: python-dateutil in /Users/stefan/Repositories/FireBIM/SSolDAC2024/venv/lib/python3.12/site-packages (from ifcopenshell) (2.9.0.post0)\n",
      "Requirement already satisfied: lark in /Users/stefan/Repositories/FireBIM/SSolDAC2024/venv/lib/python3.12/site-packages (from ifcopenshell) (1.1.9)\n",
      "Requirement already satisfied: pytz>=2020.1 in /Users/stefan/Repositories/FireBIM/SSolDAC2024/venv/lib/python3.12/site-packages (from pandas) (2024.1)\n",
      "Requirement already satisfied: tzdata>=2022.7 in /Users/stefan/Repositories/FireBIM/SSolDAC2024/venv/lib/python3.12/site-packages (from pandas) (2024.1)\n",
      "Requirement already satisfied: charset-normalizer<4,>=2 in /Users/stefan/Repositories/FireBIM/SSolDAC2024/venv/lib/python3.12/site-packages (from requests) (3.3.2)\n",
      "Requirement already satisfied: idna<4,>=2.5 in /Users/stefan/Repositories/FireBIM/SSolDAC2024/venv/lib/python3.12/site-packages (from requests) (3.7)\n",
      "Requirement already satisfied: urllib3<3,>=1.21.1 in /Users/stefan/Repositories/FireBIM/SSolDAC2024/venv/lib/python3.12/site-packages (from requests) (2.2.1)\n",
      "Requirement already satisfied: certifi>=2017.4.17 in /Users/stefan/Repositories/FireBIM/SSolDAC2024/venv/lib/python3.12/site-packages (from requests) (2024.6.2)\n",
      "Requirement already satisfied: rdflib>=6.0.2 in /Users/stefan/Repositories/FireBIM/SSolDAC2024/venv/lib/python3.12/site-packages (from owlrl) (7.0.0)\n",
      "Requirement already satisfied: six>=1.5 in /Users/stefan/Repositories/FireBIM/SSolDAC2024/venv/lib/python3.12/site-packages (from python-dateutil->ifcopenshell) (1.16.0)\n",
      "Requirement already satisfied: pyparsing<4,>=2.1.0 in /Users/stefan/Repositories/FireBIM/SSolDAC2024/venv/lib/python3.12/site-packages (from rdflib>=6.0.2->owlrl) (3.1.2)\n",
      "Note: you may need to restart the kernel to use updated packages.\n"
     ]
    }
   ],
   "source": [
    "pip install ifcopenshell pandas requests owlrl"
   ]
  },
  {
   "cell_type": "markdown",
   "metadata": {},
   "source": [
    "## 3. Working Directory"
   ]
  },
  {
   "cell_type": "markdown",
   "metadata": {},
   "source": [
    "Check the current path your are working in"
   ]
  },
  {
   "cell_type": "code",
   "execution_count": 9,
   "metadata": {},
   "outputs": [
    {
     "name": "stdout",
     "output_type": "stream",
     "text": [
      "You are in path:\n"
     ]
    },
    {
     "data": {
      "text/plain": [
       "'/Users/stefan/Repositories/FireBIM/SSolDAC2024/handson-querying-and-interaction'"
      ]
     },
     "execution_count": 9,
     "metadata": {},
     "output_type": "execute_result"
    }
   ],
   "source": [
    "import os\n",
    "print( \"You are in path:\" )\n",
    "os.getcwd()"
   ]
  }
 ],
 "metadata": {
  "kernelspec": {
   "display_name": "Python 3",
   "language": "python",
   "name": "python3"
  },
  "language_info": {
   "codemirror_mode": {
    "name": "ipython",
    "version": 3
   },
   "file_extension": ".py",
   "mimetype": "text/x-python",
   "name": "python",
   "nbconvert_exporter": "python",
   "pygments_lexer": "ipython3",
   "version": "3.9.1"
  }
 },
 "nbformat": 4,
 "nbformat_minor": 2
}
