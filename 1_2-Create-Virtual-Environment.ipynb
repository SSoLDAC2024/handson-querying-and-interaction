{
 "cells": [
  {
   "cell_type": "markdown",
   "metadata": {},
   "source": [
    "# 1.2 Create Virtual Environment\n",
    "If you are working locally, then it is recommended to work with a local [virtual environment](https://docs.python.org/3/library/venv.html). "
   ]
  },
  {
   "cell_type": "markdown",
   "metadata": {},
   "source": [
    "## 1. How to create a Virtual Environment\n",
    "A virtual environment in Python is an isolated environment that allows you to manage and install packages independently of your system-wide Python installation. This isolation helps to avoid conflicts between dependencies and ensures that your projects have access to the specific versions of packages they need. Here are some key points about virtual environments:\n",
    "\n",
    "### Key Features and Benefits:\n",
    "\n",
    "1. **Isolation**: Each virtual environment has its own set of installed packages and dependencies, separate from other environments and the system Python installation.\n",
    "\n",
    "2. **Dependency Management**: You can install and manage project-specific dependencies without affecting other projects or the global Python installation.\n",
    "\n",
    "3. **Reproducibility**: Ensures that a project can be replicated on another system with the same set of dependencies, making it easier to share projects with others or deploy them on different machines.\n",
    "\n",
    "4. **Version Control**: Allows you to test projects with different versions of packages without interfering with other projects.\n",
    "\n",
    "### How to Create and Use a Virtual Environment:\n",
    "\n",
    "1. **Creating a Virtual Environment**:\n",
    "   - Using `venv` (included in Python 3.3 and above):\n",
    "     ```sh\n",
    "     python -m venv myenv\n",
    "     ```\n",
    "   - Using `virtualenv` (requires installation):\n",
    "     ```sh\n",
    "     pip install virtualenv\n",
    "     virtualenv myenv\n",
    "     ```\n",
    "\n",
    "2. **Activating the Virtual Environment**:\n",
    "   - On Windows:\n",
    "     ```sh\n",
    "     myenv\\Scripts\\activate\n",
    "     ```\n",
    "   - On macOS and Linux:\n",
    "     ```sh\n",
    "     source myenv/bin/activate\n",
    "     ```\n",
    "\n",
    "3. **Installing Packages**:\n",
    "   - Once the virtual environment is activated, you can install packages using `pip`:\n",
    "     ```sh\n",
    "     pip install package_name\n",
    "     ```\n",
    "\n",
    "4. **Deactivating the Virtual Environment**:\n",
    "   - To deactivate the virtual environment and return to the global Python environment:\n",
    "     ```sh\n",
    "     deactivate\n",
    "     ```\n",
    "\n",
    "5. **Deleting the Virtual Environment**:\n",
    "   - To remove a virtual environment, simply delete the directory:\n",
    "     ```sh\n",
    "     rm -rf myenv\n",
    "     ```\n",
    "\n",
    "### Example Workflow:\n",
    "\n",
    "1. Create a new virtual environment for your project:\n",
    "   ```sh\n",
    "   python -m venv myprojectenv\n",
    "   ```\n",
    "\n",
    "2. Activate the virtual environment:\n",
    "   ```sh\n",
    "   source myprojectenv/bin/activate  # macOS/Linux\n",
    "   myprojectenv\\Scripts\\activate     # Windows\n",
    "   ```\n",
    "\n",
    "3. Install required packages:\n",
    "   ```sh\n",
    "   pip install requests numpy\n",
    "   ```\n",
    "\n",
    "4. Work on your project, knowing the dependencies are isolated.\n",
    "\n",
    "5. Deactivate the environment when done:\n",
    "   ```sh\n",
    "   deactivate\n",
    "   ```\n",
    "\n",
    "Using virtual environments is a best practice for Python development, especially when managing multiple projects or working in a team."
   ]
  },
  {
   "cell_type": "markdown",
   "metadata": {},
   "source": [
    "## 2. Required packages\n",
    "For this tutorial, the following packages are needed. If you are working locally, then install them preferably in your active virtual environment. If you are working in Google Colab, then install them in that Google Colab environment. As a third option, you can install them in your local machine."
   ]
  },
  {
   "cell_type": "markdown",
   "metadata": {},
   "source": [
    "Check if your current python environment has the required packages for this tutorial installed:"
   ]
  },
  {
   "cell_type": "code",
   "execution_count": 1,
   "metadata": {},
   "outputs": [],
   "source": [
    "import rdflib"
   ]
  },
  {
   "cell_type": "markdown",
   "metadata": {},
   "source": [
    "If there is a **ModuleNotFoundError**, then install the missing module, using `pip install`:"
   ]
  },
  {
   "cell_type": "code",
   "execution_count": 2,
   "metadata": {},
   "outputs": [
    {
     "name": "stdout",
     "output_type": "stream",
     "text": [
      "Requirement already satisfied: rdflib in c:\\users\\20194060\\appdata\\local\\programs\\python\\python39\\lib\\site-packages (6.1.1)\n",
      "Requirement already satisfied: isodate in c:\\users\\20194060\\appdata\\local\\programs\\python\\python39\\lib\\site-packages (from rdflib) (0.6.0)\n",
      "Requirement already satisfied: pyparsing in c:\\users\\20194060\\appdata\\local\\programs\\python\\python39\\lib\\site-packages (from rdflib) (3.0.6)\n",
      "Requirement already satisfied: setuptools in c:\\users\\20194060\\appdata\\local\\programs\\python\\python39\\lib\\site-packages (from rdflib) (49.2.1)\n",
      "Requirement already satisfied: six in c:\\users\\20194060\\appdata\\local\\programs\\python\\python39\\lib\\site-packages (from isodate->rdflib) (1.16.0)\n",
      "Note: you may need to restart the kernel to use updated packages.\n"
     ]
    },
    {
     "name": "stderr",
     "output_type": "stream",
     "text": [
      "\n",
      "[notice] A new release of pip is available: 23.3.1 -> 24.0\n",
      "[notice] To update, run: python.exe -m pip install --upgrade pip\n"
     ]
    }
   ],
   "source": [
    "pip install rdflib"
   ]
  },
  {
   "cell_type": "markdown",
   "metadata": {},
   "source": [
    "Also the following packages need to be installed:\n",
    "\n",
    "- `ifcopenshell` allows to work with IFC files\n",
    "- `pandas` allows to work with Excel and CSV files\n",
    "- `requests` allows to send HTTP requests\n",
    "- `owlrl` allows to do inference (reasoning)"
   ]
  },
  {
   "cell_type": "code",
   "execution_count": 6,
   "metadata": {},
   "outputs": [
    {
     "name": "stdout",
     "output_type": "stream",
     "text": [
      "Requirement already satisfied: ifcopenshell in c:\\users\\20194060\\appdata\\local\\programs\\python\\python39\\lib\\site-packages (0.7.0.231018)Note: you may need to restart the kernel to use updated packages.\n"
     ]
    },
    {
     "name": "stderr",
     "output_type": "stream",
     "text": [
      "\n",
      "[notice] A new release of pip is available: 23.3.1 -> 24.0\n",
      "[notice] To update, run: python.exe -m pip install --upgrade pip\n"
     ]
    },
    {
     "name": "stdout",
     "output_type": "stream",
     "text": [
      "\n",
      "Requirement already satisfied: pandas in c:\\users\\20194060\\appdata\\local\\programs\\python\\python39\\lib\\site-packages (2.1.3)\n",
      "Requirement already satisfied: requests in c:\\users\\20194060\\appdata\\local\\programs\\python\\python39\\lib\\site-packages (2.25.1)\n",
      "Collecting owlrl\n",
      "  Downloading owlrl-6.0.2-py3-none-any.whl.metadata (3.4 kB)\n",
      "Requirement already satisfied: numpy<2,>=1.22.4 in c:\\users\\20194060\\appdata\\local\\programs\\python\\python39\\lib\\site-packages (from pandas) (1.26.2)\n",
      "Requirement already satisfied: python-dateutil>=2.8.2 in c:\\users\\20194060\\appdata\\roaming\\python\\python39\\site-packages (from pandas) (2.8.2)\n",
      "Requirement already satisfied: pytz>=2020.1 in c:\\users\\20194060\\appdata\\local\\programs\\python\\python39\\lib\\site-packages (from pandas) (2022.1)\n",
      "Requirement already satisfied: tzdata>=2022.1 in c:\\users\\20194060\\appdata\\local\\programs\\python\\python39\\lib\\site-packages (from pandas) (2023.3)\n",
      "Requirement already satisfied: chardet<5,>=3.0.2 in c:\\users\\20194060\\appdata\\local\\programs\\python\\python39\\lib\\site-packages (from requests) (4.0.0)\n",
      "Requirement already satisfied: idna<3,>=2.5 in c:\\users\\20194060\\appdata\\local\\programs\\python\\python39\\lib\\site-packages (from requests) (2.10)\n",
      "Requirement already satisfied: urllib3<1.27,>=1.21.1 in c:\\users\\20194060\\appdata\\local\\programs\\python\\python39\\lib\\site-packages (from requests) (1.26.3)\n",
      "Requirement already satisfied: certifi>=2017.4.17 in c:\\users\\20194060\\appdata\\local\\programs\\python\\python39\\lib\\site-packages (from requests) (2020.12.5)\n",
      "Requirement already satisfied: rdflib>=6.0.2 in c:\\users\\20194060\\appdata\\local\\programs\\python\\python39\\lib\\site-packages (from owlrl) (6.1.1)\n",
      "Requirement already satisfied: six>=1.5 in c:\\users\\20194060\\appdata\\local\\programs\\python\\python39\\lib\\site-packages (from python-dateutil>=2.8.2->pandas) (1.16.0)\n",
      "Requirement already satisfied: isodate in c:\\users\\20194060\\appdata\\local\\programs\\python\\python39\\lib\\site-packages (from rdflib>=6.0.2->owlrl) (0.6.0)\n",
      "Requirement already satisfied: pyparsing in c:\\users\\20194060\\appdata\\local\\programs\\python\\python39\\lib\\site-packages (from rdflib>=6.0.2->owlrl) (3.0.6)\n",
      "Requirement already satisfied: setuptools in c:\\users\\20194060\\appdata\\local\\programs\\python\\python39\\lib\\site-packages (from rdflib>=6.0.2->owlrl) (49.2.1)\n",
      "Downloading owlrl-6.0.2-py3-none-any.whl (54 kB)\n",
      "   ---------------------------------------- 0.0/54.5 kB ? eta -:--:--\n",
      "   ---------------------------------------- 54.5/54.5 kB 3.0 MB/s eta 0:00:00\n",
      "Installing collected packages: owlrl\n",
      "Successfully installed owlrl-6.0.2\n"
     ]
    }
   ],
   "source": [
    "pip install ifcopenshell pandas requests owlrl"
   ]
  },
  {
   "cell_type": "markdown",
   "metadata": {},
   "source": [
    "## 3. Working Directory"
   ]
  },
  {
   "cell_type": "markdown",
   "metadata": {},
   "source": [
    "Check the current path your are working in"
   ]
  },
  {
   "cell_type": "code",
   "execution_count": 7,
   "metadata": {},
   "outputs": [
    {
     "name": "stdout",
     "output_type": "stream",
     "text": [
      "Your are in path:\n"
     ]
    },
    {
     "data": {
      "text/plain": [
       "'c:\\\\Users\\\\20194060\\\\Desktop\\\\Git\\\\pipauwel\\\\SummerSchoolOfLDAC\\\\Notebooks'"
      ]
     },
     "execution_count": 7,
     "metadata": {},
     "output_type": "execute_result"
    }
   ],
   "source": [
    "import os\n",
    "print( \"You are in path:\" )\n",
    "os.getcwd()"
   ]
  }
 ],
 "metadata": {
  "kernelspec": {
   "display_name": "Python 3",
   "language": "python",
   "name": "python3"
  },
  "language_info": {
   "codemirror_mode": {
    "name": "ipython",
    "version": 3
   },
   "file_extension": ".py",
   "mimetype": "text/x-python",
   "name": "python",
   "nbconvert_exporter": "python",
   "pygments_lexer": "ipython3",
   "version": "3.9.1"
  }
 },
 "nbformat": 4,
 "nbformat_minor": 2
}
