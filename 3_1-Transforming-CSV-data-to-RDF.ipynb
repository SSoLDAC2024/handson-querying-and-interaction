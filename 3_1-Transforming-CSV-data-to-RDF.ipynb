{
 "cells": [
  {
   "cell_type": "markdown",
   "metadata": {},
   "source": [
    "# 3.1 Transforming CSV data to RDF\n",
    "\n",
    "Manually creating RDF graphs, as was done in the previous parts of this tutorial, is slow. This needs to be automated further. In this part of the tutorial, we will create RDF graphs from CSV files (comma separated values). We will do this for a simple building model, and rely on the ontology that we built earlier."
   ]
  },
  {
   "cell_type": "markdown",
   "metadata": {},
   "source": [
    "## 1. The sample building\n",
    "\n",
    "For this part, we will assume a building that has the following layout, and that relies on the ontology that we created earlier and that allows us to model spaces, sensors, walls, and a few more things. The following building we will represent in an Excel file and CSV file (exported from Excel), such that the RDF graph can be created automatically.\n",
    "\n",
    "<img src=\"figures/simpleBuildingLayout.png\" width=\"600\" />\n",
    "\n",
    "Responding to our ontology, our building structure is represented in Excel as follows (see file [simplebuilding.xlsx](data/simplebuilding.xlsx) and [simplebuilding.csv](data/simplebuilding.csv)):\n",
    "\n",
    "<img src=\"figures/simpleBuildingExcel.png\" width=\"400\" />"
   ]
  },
  {
   "cell_type": "markdown",
   "metadata": {},
   "source": [
    "## 2. Parsing the CSV data\n",
    "We first load in the CSV file, as well as the ontology graph, using the fitting packages, namely `rdflib`, and `csv` or `pandas`."
   ]
  },
  {
   "cell_type": "code",
   "execution_count": 45,
   "metadata": {},
   "outputs": [
    {
     "name": "stdout",
     "output_type": "stream",
     "text": [
      "Requirement already satisfied: pandas in c:\\users\\20194060\\appdata\\local\\programs\\python\\python312\\lib\\site-packages (2.2.2)Note: you may need to restart the kernel to use updated packages.\n",
      "\n",
      "Requirement already satisfied: numpy>=1.26.0 in c:\\users\\20194060\\appdata\\local\\programs\\python\\python312\\lib\\site-packages (from pandas) (1.26.4)\n",
      "Requirement already satisfied: python-dateutil>=2.8.2 in c:\\users\\20194060\\appdata\\roaming\\python\\python312\\site-packages (from pandas) (2.8.2)\n",
      "Requirement already satisfied: pytz>=2020.1 in c:\\users\\20194060\\appdata\\local\\programs\\python\\python312\\lib\\site-packages (from pandas) (2024.1)\n",
      "Requirement already satisfied: tzdata>=2022.7 in c:\\users\\20194060\\appdata\\local\\programs\\python\\python312\\lib\\site-packages (from pandas) (2024.1)\n",
      "Requirement already satisfied: six>=1.5 in c:\\users\\20194060\\appdata\\roaming\\python\\python312\\site-packages (from python-dateutil>=2.8.2->pandas) (1.16.0)\n"
     ]
    }
   ],
   "source": [
    "pip install pandas"
   ]
  },
  {
   "cell_type": "code",
   "execution_count": 61,
   "metadata": {},
   "outputs": [
    {
     "name": "stdout",
     "output_type": "stream",
     "text": [
      "['ï»¿Space', 'Element', 'Element Type']\n",
      "['Kitchen', 'Wall 1', 'Wall']\n",
      "['Kitchen', 'Wall 2', 'Wall']\n",
      "['Kitchen', 'Wall 5', 'Wall']\n",
      "['Kitchen', 'Wall 6', 'Wall']\n",
      "['Kitchen', 'Sensor 1', 'Sensor']\n",
      "['Bedroom', 'Wall 1', 'Wall']\n",
      "['Bedroom', 'Wall 2', 'Wall']\n",
      "['Bedroom', 'Wall 7', 'Wall']\n",
      "['Bedroom', 'Wall 3', 'Wall']\n",
      "['Living Space', 'Wall 5', 'Wall']\n",
      "['Living Space', 'Wall 4', 'Wall']\n",
      "['Living Space', 'Wall 6', 'Wall']\n",
      "['Living Space', 'Wall 7', 'Wall']\n",
      "['Living Space', 'Wall 3', 'Wall']\n",
      "['Living Space', 'AHU 1', 'AirHandlingUnit']\n",
      "           Space   Element     Element Type\n",
      "0        Kitchen    Wall 1             Wall\n",
      "1        Kitchen    Wall 2             Wall\n",
      "2        Kitchen    Wall 5             Wall\n",
      "3        Kitchen    Wall 6             Wall\n",
      "4        Kitchen  Sensor 1           Sensor\n",
      "5        Bedroom    Wall 1             Wall\n",
      "6        Bedroom    Wall 2             Wall\n",
      "7        Bedroom    Wall 7             Wall\n",
      "8        Bedroom    Wall 3             Wall\n",
      "9   Living Space    Wall 5             Wall\n",
      "10  Living Space    Wall 4             Wall\n",
      "11  Living Space    Wall 6             Wall\n",
      "12  Living Space    Wall 7             Wall\n",
      "13  Living Space    Wall 3             Wall\n",
      "14  Living Space     AHU 1  AirHandlingUnit\n"
     ]
    }
   ],
   "source": [
    "from rdflib import Graph, OWL, RDF, RDFS, Namespace, URIRef, Literal\n",
    "\n",
    "#instance graph and ontology\n",
    "g = Graph()\n",
    "ontology_graph = Graph()\n",
    "ontology_graph.parse(\"output/myFirstOntology.ttl\")\n",
    "\n",
    "import csv\n",
    "with open('data/simplebuilding.csv', 'r') as csv_file:\n",
    "    reader = csv.reader(csv_file)\n",
    "    for row in reader:\n",
    "        print(row)\n",
    "\n",
    "import pandas\n",
    "df = pandas.read_csv('data/simplebuilding.csv')\n",
    "print(df)"
   ]
  },
  {
   "cell_type": "markdown",
   "metadata": {},
   "source": [
    "## 3. Setting up the RDFLib basics\n",
    "Next, we load some basic settings, similar to previous parts of this tutorial."
   ]
  },
  {
   "cell_type": "code",
   "execution_count": 47,
   "metadata": {},
   "outputs": [
    {
     "data": {
      "text/plain": [
       "<Graph identifier=Ndcb528b67f5249caa979a2fa001ecab1 (<class 'rdflib.graph.Graph'>)>"
      ]
     },
     "execution_count": 47,
     "metadata": {},
     "output_type": "execute_result"
    }
   ],
   "source": [
    "g.bind(\"owl\", OWL)\n",
    "MFI = Namespace(\"https://example.org/myFirstOntology#\")\n",
    "g.bind(\"mfi\", MFI)\n",
    "\n",
    "# Add namespace and prefix for instance graph (ABox)\n",
    "INST = Namespace(\"https://example.org/myFirstInstanceGraph/\")\n",
    "g.bind(\"\", INST) # bind to default empty prefix\n",
    "g.bind(\"inst\", INST) # bind to inst prefix\n",
    "\n",
    "# Initiate ontology entity\n",
    "s = URIRef(\"https://example.org/myFirstInstanceGraph\")\n",
    "p = RDF.type\n",
    "o = OWL.Ontology\n",
    "g.add((s, p, o))"
   ]
  },
  {
   "cell_type": "markdown",
   "metadata": {},
   "source": [
    "## 4. Instantiating spaces in the graph\n",
    "\n",
    "Next, we will retrieve all unique Spaces and Elements in this CSV spreadsheet, and instantiate those. These are our unique spaces, elements, and elementtypes:"
   ]
  },
  {
   "cell_type": "code",
   "execution_count": 63,
   "metadata": {},
   "outputs": [],
   "source": [
    "uniqueSpaces = df['Space'].unique()\n",
    "uniqueElements = df['Element'].unique()\n",
    "uniqueElementTypes = df['Element Type'].unique()"
   ]
  },
  {
   "cell_type": "markdown",
   "metadata": {},
   "source": [
    "Then we create all the spaces that we have in column one of our Excel table input."
   ]
  },
  {
   "cell_type": "code",
   "execution_count": 49,
   "metadata": {},
   "outputs": [
    {
     "name": "stdout",
     "output_type": "stream",
     "text": [
      "We have now a space with name Kitchen\n",
      "We have now a space with name Living Space\n",
      "We have now a space with name Bedroom\n"
     ]
    }
   ],
   "source": [
    "# first create all the spaces, that is easy\n",
    "i = 1\n",
    "for space in uniqueSpaces:\n",
    "    sp = URIRef(\"https://example.org/myFirstInstanceGraph/\" + \"space_\" + str(i))\n",
    "    g.add((sp, RDF.type, MFI[\"Space\"]))\n",
    "    g.add((sp, MFI[\"name\"], Literal(space)))\n",
    "\n",
    "    # check the created value\n",
    "    print(f\"We have now a space with name {g.value(sp, MFI.name)}\")\n",
    "\n",
    "    #add +1 to index counter\n",
    "    i+=1"
   ]
  },
  {
   "cell_type": "markdown",
   "metadata": {},
   "source": [
    "## 5. Instantiating the building elements in the graph\n",
    "To add the correct elements to each space, we will need to iterate over each row of the input, to be able to match the correct elements with the correct spaces. So that means that we will anyway need to iterate over the rows of our Excel input (`DataFrame`). Since we will iterate over these values, we can then also create these elements during that iteration. We can iterate over our input as follows:"
   ]
  },
  {
   "cell_type": "code",
   "execution_count": 50,
   "metadata": {},
   "outputs": [],
   "source": [
    "# Iterate over the rows using iterrows() to add elements to spaces\n",
    "for index, row in df.iterrows():\n",
    "    # get values\n",
    "    spaceval = row['Space']\n",
    "    elementval = row['Element']\n",
    "    elementtypeval = row['Element Type']"
   ]
  },
  {
   "cell_type": "markdown",
   "metadata": {},
   "source": [
    "At every row, we need to select the corresponding `Space` instance from the `Graph`, and make sure also that it exists. This can be done by a *Contains check* (see also https://rdflib.readthedocs.io/en/stable/intro_to_graphs.html#contains-check)."
   ]
  },
  {
   "cell_type": "code",
   "execution_count": 51,
   "metadata": {},
   "outputs": [
    {
     "name": "stdout",
     "output_type": "stream",
     "text": [
      "This graph knows that Space_1 is a mfi:Space!\n",
      "This graph contains triples about Space_1!\n"
     ]
    }
   ],
   "source": [
    "exampleSpace = URIRef(\"https://example.org/myFirstInstanceGraph/space_1\")\n",
    "if (exampleSpace, RDF.type, MFI.Space) in g:\n",
    "    print(\"This graph knows that Space_1 is a mfi:Space!\")\n",
    "\n",
    "if (exampleSpace, None, None) in g:\n",
    "    print(\"This graph contains triples about Space_1!\")"
   ]
  },
  {
   "cell_type": "markdown",
   "metadata": {},
   "source": [
    "However, since we don't know the correct URI, this method is not the best one to use. We will instead query for spaces that have the same label as the one found in the Excel spreadsheet. This is a potential vulnerability, since matching triples based on string labels is generally unreliable (two spaces could have the same name label)."
   ]
  },
  {
   "cell_type": "code",
   "execution_count": 52,
   "metadata": {},
   "outputs": [
    {
     "name": "stdout",
     "output_type": "stream",
     "text": [
      "PREFIX mfi: <https://example.org/myFirstOntology#>\n",
      "        PREFIX rdf: <http://www.w3.org/1999/02/22-rdf-syntax-ns#>\n",
      "\n",
      "        SELECT ?space\n",
      "        WHERE { \n",
      "            ?space rdf:type mfi:Space .\n",
      "            ?space mfi:name \"Kitchen\"\n",
      "          }\n",
      "length = 1\n",
      "\n",
      "PREFIX mfi: <https://example.org/myFirstOntology#>\n",
      "        PREFIX rdf: <http://www.w3.org/1999/02/22-rdf-syntax-ns#>\n",
      "\n",
      "        SELECT ?space\n",
      "        WHERE { \n",
      "            ?space rdf:type mfi:Space .\n",
      "            ?space mfi:name \"Kitchen\"\n",
      "          }\n",
      "length = 1\n",
      "\n",
      "PREFIX mfi: <https://example.org/myFirstOntology#>\n",
      "        PREFIX rdf: <http://www.w3.org/1999/02/22-rdf-syntax-ns#>\n",
      "\n",
      "        SELECT ?space\n",
      "        WHERE { \n",
      "            ?space rdf:type mfi:Space .\n",
      "            ?space mfi:name \"Kitchen\"\n",
      "          }\n",
      "length = 1\n",
      "\n",
      "PREFIX mfi: <https://example.org/myFirstOntology#>\n",
      "        PREFIX rdf: <http://www.w3.org/1999/02/22-rdf-syntax-ns#>\n",
      "\n",
      "        SELECT ?space\n",
      "        WHERE { \n",
      "            ?space rdf:type mfi:Space .\n",
      "            ?space mfi:name \"Kitchen\"\n",
      "          }\n",
      "length = 1\n",
      "\n",
      "PREFIX mfi: <https://example.org/myFirstOntology#>\n",
      "        PREFIX rdf: <http://www.w3.org/1999/02/22-rdf-syntax-ns#>\n",
      "\n",
      "        SELECT ?space\n",
      "        WHERE { \n",
      "            ?space rdf:type mfi:Space .\n",
      "            ?space mfi:name \"Kitchen\"\n",
      "          }\n",
      "length = 1\n",
      "\n",
      "PREFIX mfi: <https://example.org/myFirstOntology#>\n",
      "        PREFIX rdf: <http://www.w3.org/1999/02/22-rdf-syntax-ns#>\n",
      "\n",
      "        SELECT ?space\n",
      "        WHERE { \n",
      "            ?space rdf:type mfi:Space .\n",
      "            ?space mfi:name \"Living Space\"\n",
      "          }\n",
      "length = 1\n",
      "\n",
      "PREFIX mfi: <https://example.org/myFirstOntology#>\n",
      "        PREFIX rdf: <http://www.w3.org/1999/02/22-rdf-syntax-ns#>\n",
      "\n",
      "        SELECT ?space\n",
      "        WHERE { \n",
      "            ?space rdf:type mfi:Space .\n",
      "            ?space mfi:name \"Living Space\"\n",
      "          }\n",
      "length = 1\n",
      "\n",
      "PREFIX mfi: <https://example.org/myFirstOntology#>\n",
      "        PREFIX rdf: <http://www.w3.org/1999/02/22-rdf-syntax-ns#>\n",
      "\n",
      "        SELECT ?space\n",
      "        WHERE { \n",
      "            ?space rdf:type mfi:Space .\n",
      "            ?space mfi:name \"Living Space\"\n",
      "          }\n",
      "length = 1\n",
      "\n",
      "PREFIX mfi: <https://example.org/myFirstOntology#>\n",
      "        PREFIX rdf: <http://www.w3.org/1999/02/22-rdf-syntax-ns#>\n",
      "\n",
      "        SELECT ?space\n",
      "        WHERE { \n",
      "            ?space rdf:type mfi:Space .\n",
      "            ?space mfi:name \"Living Space\"\n",
      "          }\n",
      "length = 1\n",
      "\n",
      "PREFIX mfi: <https://example.org/myFirstOntology#>\n",
      "        PREFIX rdf: <http://www.w3.org/1999/02/22-rdf-syntax-ns#>\n",
      "\n",
      "        SELECT ?space\n",
      "        WHERE { \n",
      "            ?space rdf:type mfi:Space .\n",
      "            ?space mfi:name \"Living Space\"\n",
      "          }\n",
      "length = 1\n",
      "\n",
      "PREFIX mfi: <https://example.org/myFirstOntology#>\n",
      "        PREFIX rdf: <http://www.w3.org/1999/02/22-rdf-syntax-ns#>\n",
      "\n",
      "        SELECT ?space\n",
      "        WHERE { \n",
      "            ?space rdf:type mfi:Space .\n",
      "            ?space mfi:name \"Living Space\"\n",
      "          }\n",
      "length = 1\n",
      "\n",
      "PREFIX mfi: <https://example.org/myFirstOntology#>\n",
      "        PREFIX rdf: <http://www.w3.org/1999/02/22-rdf-syntax-ns#>\n",
      "\n",
      "        SELECT ?space\n",
      "        WHERE { \n",
      "            ?space rdf:type mfi:Space .\n",
      "            ?space mfi:name \"Bedroom\"\n",
      "          }\n",
      "length = 1\n",
      "\n",
      "PREFIX mfi: <https://example.org/myFirstOntology#>\n",
      "        PREFIX rdf: <http://www.w3.org/1999/02/22-rdf-syntax-ns#>\n",
      "\n",
      "        SELECT ?space\n",
      "        WHERE { \n",
      "            ?space rdf:type mfi:Space .\n",
      "            ?space mfi:name \"Bedroom\"\n",
      "          }\n",
      "length = 1\n",
      "\n",
      "PREFIX mfi: <https://example.org/myFirstOntology#>\n",
      "        PREFIX rdf: <http://www.w3.org/1999/02/22-rdf-syntax-ns#>\n",
      "\n",
      "        SELECT ?space\n",
      "        WHERE { \n",
      "            ?space rdf:type mfi:Space .\n",
      "            ?space mfi:name \"Bedroom\"\n",
      "          }\n",
      "length = 1\n",
      "\n",
      "PREFIX mfi: <https://example.org/myFirstOntology#>\n",
      "        PREFIX rdf: <http://www.w3.org/1999/02/22-rdf-syntax-ns#>\n",
      "\n",
      "        SELECT ?space\n",
      "        WHERE { \n",
      "            ?space rdf:type mfi:Space .\n",
      "            ?space mfi:name \"Bedroom\"\n",
      "          }\n",
      "length = 1\n",
      "\n"
     ]
    }
   ],
   "source": [
    "i = 1\n",
    "# Iterate over the rows using iterrows() to add elements to spaces\n",
    "for index, row in df.iterrows():\n",
    "    # get values\n",
    "    spaceval = row['Space']\n",
    "    elementval = row['Element']\n",
    "    elementtypeval = row['Element Type']\n",
    "\n",
    "    # Check if space already exists\n",
    "    ourQuery = f\"\"\"PREFIX mfi: <https://example.org/myFirstOntology#>\n",
    "        PREFIX rdf: <http://www.w3.org/1999/02/22-rdf-syntax-ns#>\n",
    "\n",
    "        SELECT ?space\n",
    "        WHERE {{ \n",
    "            ?space rdf:type mfi:Space .\n",
    "            ?space mfi:name \"{spaceval}\"\n",
    "          }}\"\"\"\n",
    "\n",
    "    print(ourQuery)\n",
    "\n",
    "    qres = g.query(ourQuery)\n",
    "    print(\"length = \" + str(len(list(qres))))\n",
    "    print()"
   ]
  },
  {
   "cell_type": "markdown",
   "metadata": {},
   "source": [
    "If the queried space exists, then the output length will be 1, otherwise, it will be zero. The latter option should not be a possibility, since we created all spaces beforehand already. But it can be checked nonetheless. This is included below as an if-else switch. The below will result in a `spaceURIRef` variable that holds the space URI for each row."
   ]
  },
  {
   "cell_type": "code",
   "execution_count": 53,
   "metadata": {},
   "outputs": [
    {
     "name": "stdout",
     "output_type": "stream",
     "text": [
      "found this space: https://example.org/myFirstInstanceGraph/space_1\n",
      "found this space: https://example.org/myFirstInstanceGraph/space_1\n",
      "found this space: https://example.org/myFirstInstanceGraph/space_1\n",
      "found this space: https://example.org/myFirstInstanceGraph/space_1\n",
      "found this space: https://example.org/myFirstInstanceGraph/space_1\n",
      "found this space: https://example.org/myFirstInstanceGraph/space_2\n",
      "found this space: https://example.org/myFirstInstanceGraph/space_2\n",
      "found this space: https://example.org/myFirstInstanceGraph/space_2\n",
      "found this space: https://example.org/myFirstInstanceGraph/space_2\n",
      "found this space: https://example.org/myFirstInstanceGraph/space_2\n",
      "found this space: https://example.org/myFirstInstanceGraph/space_2\n",
      "found this space: https://example.org/myFirstInstanceGraph/space_3\n",
      "found this space: https://example.org/myFirstInstanceGraph/space_3\n",
      "found this space: https://example.org/myFirstInstanceGraph/space_3\n",
      "found this space: https://example.org/myFirstInstanceGraph/space_3\n"
     ]
    }
   ],
   "source": [
    "i = 1\n",
    "# Iterate over the rows using iterrows() to add elements to spaces\n",
    "for index, row in df.iterrows():\n",
    "    # get values\n",
    "    spaceval = row['Space']\n",
    "    elementval = row['Element']\n",
    "    elementtypeval = row['Element Type']\n",
    "\n",
    "    # create an empty placeholder to contain the correct spaceURIRef for each row\n",
    "    spaceURIRef = \"placeholder\"\n",
    "\n",
    "    # Check if space already exists\n",
    "    ourQuery = f\"\"\"PREFIX mfi: <https://example.org/myFirstOntology#>\n",
    "        PREFIX rdf: <http://www.w3.org/1999/02/22-rdf-syntax-ns#>\n",
    "\n",
    "        SELECT ?space\n",
    "        WHERE {{ \n",
    "            ?space rdf:type mfi:Space .\n",
    "            ?space mfi:name \"{spaceval}\"\n",
    "          }}\"\"\"\n",
    "\n",
    "    #print(ourQuery)\n",
    "\n",
    "    qres = g.query(ourQuery)\n",
    "    #print(\"length = \" + str(len(list(qres))))\n",
    "\n",
    "    # If the space does not exist, create a new one\n",
    "    if len(list(qres)) == 0:\n",
    "        # This is actually not possible here, since we created these spaces already all before\n",
    "        g.add((INST[\"space_\"+str(i)], RDF.type, MFI[\"Space\"]))    \n",
    "        g.add((INST[\"space_\"+str(i)], MFI[\"name\"], Literal(space)))\n",
    "        i += 1\n",
    "    \n",
    "    # If yes, fetch the existing one\n",
    "    else:\n",
    "        # normally only one element in list, IF their names are unique\n",
    "        for row in qres:\n",
    "            spaceURIRef = row.space\n",
    "            print(\"found this space: \" + str(spaceURIRef))"
   ]
  },
  {
   "cell_type": "markdown",
   "metadata": {},
   "source": [
    "Great, so now that we have the correct `Space` URI for each row in the CSV input, let's look at the elements that are in the CSV file, in column 2 and 3. These have not been created beforehand, so we need to create them as we go. Luckily, if a URI already exists in a graph, `rdflib` does not create a duplicate. So we can simply generate these elements directly, and place them in the correct space."
   ]
  },
  {
   "cell_type": "code",
   "execution_count": 56,
   "metadata": {},
   "outputs": [
    {
     "name": "stdout",
     "output_type": "stream",
     "text": [
      "created element : https://example.org/myFirstInstanceGraph/Wall_1 with name Wall 1\n",
      "created element : https://example.org/myFirstInstanceGraph/Wall_2 with name Wall 2\n",
      "created element : https://example.org/myFirstInstanceGraph/Wall_5 with name Wall 5\n",
      "created element : https://example.org/myFirstInstanceGraph/Wall_6 with name Wall 6\n",
      "created element : https://example.org/myFirstInstanceGraph/Sensor_1 with name Sensor 1\n",
      "created element : https://example.org/myFirstInstanceGraph/Wall_5 with name Wall 5\n",
      "created element : https://example.org/myFirstInstanceGraph/Wall_4 with name Wall 4\n",
      "created element : https://example.org/myFirstInstanceGraph/Wall_6 with name Wall 6\n",
      "created element : https://example.org/myFirstInstanceGraph/Wall_7 with name Wall 7\n",
      "created element : https://example.org/myFirstInstanceGraph/Wall_3 with name Wall 3\n",
      "created element : https://example.org/myFirstInstanceGraph/AHU_1 with name AHU 1\n",
      "created element : https://example.org/myFirstInstanceGraph/Wall_1 with name Wall 1\n",
      "created element : https://example.org/myFirstInstanceGraph/Wall_2 with name Wall 2\n",
      "created element : https://example.org/myFirstInstanceGraph/Wall_7 with name Wall 7\n",
      "created element : https://example.org/myFirstInstanceGraph/Wall_3 with name Wall 3\n"
     ]
    }
   ],
   "source": [
    "i = 1\n",
    "# Iterate over the rows using iterrows() to add elements to spaces\n",
    "for index, row in df.iterrows():\n",
    "    elementval = row['Element']\n",
    "    elementtypeval = row['Element Type']\n",
    "        \n",
    "    elementURI = URIRef(\"https://example.org/myFirstInstanceGraph/\" + elementval.replace(\" \", \"_\"))\n",
    "\n",
    "    g.add((elementURI, RDF.type, MFI[\"Element\"]))    \n",
    "    g.add((elementURI, MFI[\"name\"], Literal(elementval)))\n",
    "\n",
    "    print(\"created element : \" + str(elementURI) + \" with name \" + str(elementval))"
   ]
  },
  {
   "cell_type": "markdown",
   "metadata": {},
   "source": [
    "## 6. Element Types to be added to the graph\n",
    "Of course, these instances should not just be of type `Element`, but rather one of the `ElementType` classes listed in column three of the input CSV file (and to be present in the `mfi` ontology). So let's correct that. While doing this, we can also check whether these Element Types are present in the ontology, and skip those element types that are not available in the ontology. "
   ]
  },
  {
   "cell_type": "code",
   "execution_count": 58,
   "metadata": {},
   "outputs": [
    {
     "name": "stdout",
     "output_type": "stream",
     "text": [
      "Element Type Wall is in the MFI ontology.\n",
      "Element Type Wall is in the MFI ontology.\n",
      "Element Type Wall is in the MFI ontology.\n",
      "Element Type Wall is in the MFI ontology.\n",
      "Element Type Sensor is in the MFI ontology.\n",
      "Element Type Wall is in the MFI ontology.\n",
      "Element Type Wall is in the MFI ontology.\n",
      "Element Type Wall is in the MFI ontology.\n",
      "Element Type Wall is in the MFI ontology.\n",
      "Element Type Wall is in the MFI ontology.\n",
      "Element Type AirHandlingUnit is in the MFI ontology.\n",
      "Element Type Wall is in the MFI ontology.\n",
      "Element Type Wall is in the MFI ontology.\n",
      "Element Type Wall is in the MFI ontology.\n",
      "Element Type Wall is in the MFI ontology.\n"
     ]
    }
   ],
   "source": [
    "i = 1\n",
    "# Iterate over the rows using iterrows() to add elements to spaces\n",
    "for index, row in df.iterrows():\n",
    "    elementtypeval = row['Element Type']\n",
    "    \n",
    "    # get the element type from the ontology\n",
    "    if (MFI[elementtypeval], RDF.type, OWL.Class) in ontology_graph:\n",
    "        print(f\"Element Type {str(elementtypeval)} is in the MFI ontology.\")\n",
    "    else:\n",
    "        print(f\"Element Type {str(elementtypeval)} is NOT in the MFI ontology.\")\n"
   ]
  },
  {
   "cell_type": "markdown",
   "metadata": {},
   "source": [
    "## 7. Summary for creation of the graph\n",
    "Now we can combine some of the above scripts, and add the element with the correct class from our `mfi` ontology. We can in principle also add it immediately to the correct space, and that leads to the following script."
   ]
  },
  {
   "cell_type": "code",
   "execution_count": 64,
   "metadata": {},
   "outputs": [
    {
     "name": "stdout",
     "output_type": "stream",
     "text": [
      "We have now a space with name Kitchen\n",
      "We have now a space with name Bedroom\n",
      "We have now a space with name Living Space\n",
      "found this space: https://example.org/myFirstInstanceGraph/space_1\n",
      "Element Type Wall is in the MFI ontology.\n",
      "created element : https://example.org/myFirstInstanceGraph/Wall_1 with name Wall 1\n",
      "found this space: https://example.org/myFirstInstanceGraph/space_1\n",
      "Element Type Wall is in the MFI ontology.\n",
      "created element : https://example.org/myFirstInstanceGraph/Wall_2 with name Wall 2\n",
      "found this space: https://example.org/myFirstInstanceGraph/space_1\n",
      "Element Type Wall is in the MFI ontology.\n",
      "created element : https://example.org/myFirstInstanceGraph/Wall_5 with name Wall 5\n",
      "found this space: https://example.org/myFirstInstanceGraph/space_1\n",
      "Element Type Wall is in the MFI ontology.\n",
      "created element : https://example.org/myFirstInstanceGraph/Wall_6 with name Wall 6\n",
      "found this space: https://example.org/myFirstInstanceGraph/space_1\n",
      "Element Type Sensor is in the MFI ontology.\n",
      "created element : https://example.org/myFirstInstanceGraph/Sensor_1 with name Sensor 1\n",
      "found this space: https://example.org/myFirstInstanceGraph/space_2\n",
      "Element Type Wall is in the MFI ontology.\n",
      "created element : https://example.org/myFirstInstanceGraph/Wall_1 with name Wall 1\n",
      "found this space: https://example.org/myFirstInstanceGraph/space_2\n",
      "Element Type Wall is in the MFI ontology.\n",
      "created element : https://example.org/myFirstInstanceGraph/Wall_2 with name Wall 2\n",
      "found this space: https://example.org/myFirstInstanceGraph/space_2\n",
      "Element Type Wall is in the MFI ontology.\n",
      "created element : https://example.org/myFirstInstanceGraph/Wall_7 with name Wall 7\n",
      "found this space: https://example.org/myFirstInstanceGraph/space_2\n",
      "Element Type Wall is in the MFI ontology.\n",
      "created element : https://example.org/myFirstInstanceGraph/Wall_3 with name Wall 3\n",
      "found this space: https://example.org/myFirstInstanceGraph/space_3\n",
      "Element Type Wall is in the MFI ontology.\n",
      "created element : https://example.org/myFirstInstanceGraph/Wall_5 with name Wall 5\n",
      "found this space: https://example.org/myFirstInstanceGraph/space_3\n",
      "Element Type Wall is in the MFI ontology.\n",
      "created element : https://example.org/myFirstInstanceGraph/Wall_4 with name Wall 4\n",
      "found this space: https://example.org/myFirstInstanceGraph/space_3\n",
      "Element Type Wall is in the MFI ontology.\n",
      "created element : https://example.org/myFirstInstanceGraph/Wall_6 with name Wall 6\n",
      "found this space: https://example.org/myFirstInstanceGraph/space_3\n",
      "Element Type Wall is in the MFI ontology.\n",
      "created element : https://example.org/myFirstInstanceGraph/Wall_7 with name Wall 7\n",
      "found this space: https://example.org/myFirstInstanceGraph/space_3\n",
      "Element Type Wall is in the MFI ontology.\n",
      "created element : https://example.org/myFirstInstanceGraph/Wall_3 with name Wall 3\n",
      "found this space: https://example.org/myFirstInstanceGraph/space_3\n",
      "Element Type AirHandlingUnit is in the MFI ontology.\n",
      "created element : https://example.org/myFirstInstanceGraph/AHU_1 with name AHU 1\n",
      "Created ourCSVbuilding.ttl in folder:\n",
      "c:\\Users\\20194060\\Desktop\\Git\\pipauwel\\SummerSchoolOfLDAC\\Notebooks\n"
     ]
    }
   ],
   "source": [
    "# Empty our graph\n",
    "g.remove((None, None, None))\n",
    "\n",
    "# setup the initial namespaces and prefixes again\n",
    "g.bind(\"owl\", OWL)\n",
    "MFI = Namespace(\"https://example.org/myFirstOntology#\")\n",
    "g.bind(\"mfi\", MFI)\n",
    "\n",
    "# Add namespace and prefix for instance graph (ABox)\n",
    "INST = Namespace(\"https://example.org/myFirstInstanceGraph/\")\n",
    "g.bind(\"\", INST) # bind to default empty prefix\n",
    "g.bind(\"inst\", INST) # bind to inst prefix\n",
    "\n",
    "# Initiate ontology entity\n",
    "s = URIRef(\"https://example.org/myFirstInstanceGraph\")\n",
    "p = RDF.type\n",
    "o = OWL.Ontology\n",
    "g.add((s, p, o))\n",
    "\n",
    "# first create all the spaces, that is easy\n",
    "i = 1\n",
    "for space in uniqueSpaces:\n",
    "    sp = URIRef(\"https://example.org/myFirstInstanceGraph/\" + \"space_\" + str(i))\n",
    "    g.add((sp, RDF.type, MFI[\"Space\"]))\n",
    "    g.add((sp, MFI[\"name\"], Literal(space)))\n",
    "\n",
    "    # check the created value\n",
    "    print(f\"We have now a space with name {g.value(sp, MFI.name)}\")\n",
    "\n",
    "    #add +1 to index counter\n",
    "    i+=1\n",
    "\n",
    "i = 1\n",
    "# Iterate over the rows using iterrows() to add elements to spaces\n",
    "for index, row in df.iterrows():\n",
    "    # get values\n",
    "    spaceval = row['Space']\n",
    "    elementval = row['Element']\n",
    "    elementtypeval = row['Element Type']\n",
    "\n",
    "    # create an empty placeholder to contain the correct spaceURIRef for each row\n",
    "    spaceURIRef = \"placeholder\"\n",
    "\n",
    "    # Check if space already exists\n",
    "    ourQuery = f\"\"\"PREFIX mfi: <https://example.org/myFirstOntology#>\n",
    "        PREFIX rdf: <http://www.w3.org/1999/02/22-rdf-syntax-ns#>\n",
    "\n",
    "        SELECT ?space\n",
    "        WHERE {{ \n",
    "            ?space rdf:type mfi:Space .\n",
    "            ?space mfi:name \"{spaceval}\"\n",
    "          }}\"\"\"\n",
    "\n",
    "    qres = g.query(ourQuery)\n",
    "\n",
    "    # If the space does not exist, create a new one\n",
    "    if len(list(qres)) == 0:\n",
    "        # This is actually not possible here, since we created these spaces already all before\n",
    "        g.add((INST[\"space_\"+str(i)], RDF.type, MFI[\"Space\"]))    \n",
    "        g.add((INST[\"space_\"+str(i)], MFI[\"name\"], Literal(space)))\n",
    "        i += 1\n",
    "    \n",
    "    # If yes, fetch the existing one\n",
    "    else:\n",
    "        # normally only one element in list, IF their names are unique\n",
    "        for row in qres:\n",
    "            spaceURIRef = row.space\n",
    "            print(\"found this space: \" + str(spaceURIRef))\n",
    "\n",
    "    # Create elements based on the values in column 2 of the input CSV file        \n",
    "    elementURI = URIRef(\"https://example.org/myFirstInstanceGraph/\" + elementval.replace(\" \", \"_\"))\n",
    "\n",
    "    # check the element type from the ontology and skip the row if it does not exist.\n",
    "    if (MFI[elementtypeval], RDF.type, OWL.Class) in ontology_graph:\n",
    "        print(f\"Element Type {str(elementtypeval)} is in the MFI ontology.\")\n",
    "    else:\n",
    "        print(f\"Element Type {str(elementtypeval)} is NOT in the MFI ontology.\")\n",
    "        next\n",
    "\n",
    "    # add the element with the correct element type\n",
    "    g.add((elementURI, RDF.type, MFI[elementtypeval]))    \n",
    "    g.add((elementURI, MFI[\"name\"], Literal(elementval)))\n",
    "    print(\"created element : \" + str(elementURI) + \" with name \" + str(elementval))\n",
    "\n",
    "    # add the element to the corresponding space\n",
    "    g.add((elementURI, MFI.hasLocation, spaceURIRef))\n",
    "\n",
    "\n",
    "# write out everything to an RDF file.\n",
    "import os\n",
    "g.serialize(destination=\"output/ourCSVbuilding.ttl\", format=\"turtle\")\n",
    "print(\"Created output/ourCSVbuilding.ttl in folder:\")\n",
    "print(str(os.getcwd()))"
   ]
  },
  {
   "cell_type": "markdown",
   "metadata": {},
   "source": [
    "## 8. Storing to file and database\n",
    "Now inspect the resulting TTL file, in Notepad or OntoText GraphDB, and verify that it contains what we had originally specified:\n",
    "\n",
    "<img src=\"figures/simpleBuildingLayout.png\" width=\"600\" />"
   ]
  },
  {
   "cell_type": "markdown",
   "metadata": {},
   "source": [
    "One final step that we can take for this dataset, is to load it directly into a graph database or triple store. While serialization to files is nice, we will need to use graph databases to properly scale up our work. So in the below steps, we will connect to a local OntoText GraphDB installation, and load our data into a repository of that installation.\n",
    "\n",
    "Installation and setup of this OntoText GraphDB software is not discussed here. Please follow the instructions that are available here: https://www.ontotext.com/products/graphdb/.\n",
    "- Install OntoText GraphDB\n",
    "- Make new repository with a name like `SSoLDAC2024`\n",
    "- Try the online interface https://localhost:7200/ to explore your database installation and know what you are working with.\n",
    "\n",
    "After taking the above steps, the online interface should show the below content when going to https://localhost:7200/, and after creating the correct repository.\n",
    "\n",
    "<img src=\"figures/graphDBInterface.png\" width=\"900\" />\n",
    "\n"
   ]
  },
  {
   "cell_type": "markdown",
   "metadata": {},
   "source": [
    "To communicate with this database, the `requests` package can be used, and needs to be installed first."
   ]
  },
  {
   "cell_type": "code",
   "execution_count": 66,
   "metadata": {},
   "outputs": [
    {
     "name": "stdout",
     "output_type": "stream",
     "text": [
      "Collecting requests\n",
      "  Downloading requests-2.32.3-py3-none-any.whl.metadata (4.6 kB)\n",
      "Collecting charset-normalizer<4,>=2 (from requests)\n",
      "  Downloading charset_normalizer-3.3.2-cp312-cp312-win_amd64.whl.metadata (34 kB)\n",
      "Collecting idna<4,>=2.5 (from requests)\n",
      "  Downloading idna-3.7-py3-none-any.whl.metadata (9.9 kB)\n",
      "Collecting urllib3<3,>=1.21.1 (from requests)\n",
      "  Downloading urllib3-2.2.1-py3-none-any.whl.metadata (6.4 kB)\n",
      "Collecting certifi>=2017.4.17 (from requests)\n",
      "  Downloading certifi-2024.6.2-py3-none-any.whl.metadata (2.2 kB)\n",
      "Downloading requests-2.32.3-py3-none-any.whl (64 kB)\n",
      "   ---------------------------------------- 0.0/64.9 kB ? eta -:--:--\n",
      "   ---------------------------------------- 64.9/64.9 kB 1.8 MB/s eta 0:00:00\n",
      "Downloading certifi-2024.6.2-py3-none-any.whl (164 kB)\n",
      "   ---------------------------------------- 0.0/164.4 kB ? eta -:--:--\n",
      "   --------------------------------------- 164.4/164.4 kB 10.3 MB/s eta 0:00:00\n",
      "Downloading charset_normalizer-3.3.2-cp312-cp312-win_amd64.whl (100 kB)\n",
      "   ---------------------------------------- 0.0/100.4 kB ? eta -:--:--\n",
      "   ---------------------------------------- 100.4/100.4 kB ? eta 0:00:00\n",
      "Downloading idna-3.7-py3-none-any.whl (66 kB)\n",
      "   ---------------------------------------- 0.0/66.8 kB ? eta -:--:--\n",
      "   ---------------------------------------- 66.8/66.8 kB 3.5 MB/s eta 0:00:00\n",
      "Downloading urllib3-2.2.1-py3-none-any.whl (121 kB)\n",
      "   ---------------------------------------- 0.0/121.1 kB ? eta -:--:--\n",
      "   ---------------------------------------- 121.1/121.1 kB 6.9 MB/s eta 0:00:00\n",
      "Installing collected packages: urllib3, idna, charset-normalizer, certifi, requests\n",
      "Successfully installed certifi-2024.6.2 charset-normalizer-3.3.2 idna-3.7 requests-2.32.3 urllib3-2.2.1\n",
      "Note: you may need to restart the kernel to use updated packages.\n"
     ]
    }
   ],
   "source": [
    "pip install requests"
   ]
  },
  {
   "cell_type": "markdown",
   "metadata": {},
   "source": [
    "The below example shows how one can send a simple SELECT query to one of the repositories of this Graph Database. The below query selects all `bot:Building` instances in the database."
   ]
  },
  {
   "cell_type": "code",
   "execution_count": 70,
   "metadata": {},
   "outputs": [
    {
     "name": "stdout",
     "output_type": "stream",
     "text": [
      "Will connect to endpoint:  http://localhost:7200/repositories/Atlas-Robots\n",
      "Request Code: 200\n",
      "Found these buildings: \n",
      "http://linkedbuildingdata.net/ifc/resources20200408_172328/building_126\n"
     ]
    }
   ],
   "source": [
    "import requests\n",
    "\n",
    "# setup the endpoint that you want to query\n",
    "endpoint = \"https://localhost:7200/repositories/SSoLDAC2024\" # change this name \n",
    "print( \"Will connect to endpoint: \" , endpoint )\n",
    "\n",
    "headers = { \"Accept\" : \"application/sparql-results+json\" ,\n",
    "            \"Content-Type\" : \"application/x-www-form-urlencoded\" }\n",
    "\n",
    "# Setup the query\n",
    "query = \"\"\"PREFIX bot: <https://w3id.org/bot#>\n",
    "PREFIX rdf: <http://www.w3.org/1999/02/22-rdf-syntax-ns#>\n",
    "\n",
    "SELECT ?building\n",
    "WHERE{ ?building rdf:type bot:Building }\"\"\"\n",
    "\n",
    "# send the query to the endpoint using the requests package\n",
    "req = requests.post( endpoint ,\n",
    "                     headers = headers ,\n",
    "                     data = \"query=\" + query )\n",
    "\n",
    "# Response status code, should be 200\n",
    "print( \"Request Code: {}\".format( req.status_code ) )\n",
    "\n",
    "# print output\n",
    "if req.status_code == 200:\n",
    "    print( \"Found these buildings: \" )\n",
    "    response = req.json()\n",
    "    print( response[ \"results\" ][ \"bindings\" ][ 0 ][ \"building\" ][ \"value\" ] )"
   ]
  },
  {
   "cell_type": "markdown",
   "metadata": {},
   "source": [
    "The above query finds available buildings in the database. We will instead load our triples into the selected repository."
   ]
  },
  {
   "cell_type": "code",
   "execution_count": 76,
   "metadata": {},
   "outputs": [
    {
     "name": "stdout",
     "output_type": "stream",
     "text": [
      "Response status code: 204\n",
      "Response content: \n"
     ]
    }
   ],
   "source": [
    "# setup correct request headers\n",
    "endpoint = \"http://localhost:7200/repositories/SSoLDAC2024/statements\"\n",
    "headers = {\n",
    "    \"Content-Type\": \"application/x-turtle\",\n",
    "    \"Accept\": \"application/json\"\n",
    "}\n",
    "\n",
    "# Serialize the graph to Turtle format\n",
    "rdf_data = g.serialize(format=\"turtle\")\n",
    "\n",
    "# send the data to the endpoint\n",
    "response = requests.post(endpoint, data=rdf_data, headers=headers)\n",
    "\n",
    "# Response status code, should be 200\n",
    "print(f\"Response status code: {response.status_code}\")\n",
    "print(f\"Response content: {response.content.decode('utf-8')}\")"
   ]
  },
  {
   "cell_type": "markdown",
   "metadata": {},
   "source": [
    "By running this request, data gets loaded into the GraphDB installation. You can inspect the graph there and find the following:\n",
    "\n",
    "<img src=\"figures/smallGraph.png\" width=\"900\" />"
   ]
  }
 ],
 "metadata": {
  "kernelspec": {
   "display_name": "Python 3",
   "language": "python",
   "name": "python3"
  },
  "language_info": {
   "codemirror_mode": {
    "name": "ipython",
    "version": 3
   },
   "file_extension": ".py",
   "mimetype": "text/x-python",
   "name": "python",
   "nbconvert_exporter": "python",
   "pygments_lexer": "ipython3",
   "version": "3.12.0"
  }
 },
 "nbformat": 4,
 "nbformat_minor": 2
}
