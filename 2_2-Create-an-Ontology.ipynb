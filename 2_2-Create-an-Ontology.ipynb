{
 "cells": [
  {
   "cell_type": "markdown",
   "metadata": {},
   "source": [
    "# 2.2 Creating an ontology\n",
    "In this short tutorial, we will show you how to use Python code with RDFLib to create an OWL ontology. This OWL ontology represents terminological knowledge, known as the TBox.  "
   ]
  },
  {
   "cell_type": "markdown",
   "metadata": {},
   "source": [
    "## 1. Setup\n",
    "We will use the python package  \n",
    "> rdflib\n",
    "\n",
    "Other packages exist as well. It is also possible to work with RDF and OWL in other software languages:\n",
    "- C#: [DotNetRdf](https://dotnetrdf.org)\n",
    "- Java: [Jena](https://jena.apache.org)\n",
    "- JavaScript: [rdf.js](https://rdf.js.org)\n",
    "- Redland: [librdf](https://librdf.org)"
   ]
  },
  {
   "cell_type": "markdown",
   "metadata": {},
   "source": [
    "## 2. Creating a graph\n",
    "We import rdflib and create an initial graph. By doing so, an empty graph `g` is created in memory. This is not stored to disk or database or file. After creation of this empty graph, we will fill it with triples and eventually save it to a file."
   ]
  },
  {
   "cell_type": "code",
   "execution_count": 1,
   "metadata": {},
   "outputs": [],
   "source": [
    "from rdflib import Graph , Literal , BNode , Namespace , RDF , RDFS , OWL , URIRef\n",
    "import os\n",
    "g = Graph()"
   ]
  },
  {
   "cell_type": "markdown",
   "metadata": {},
   "source": [
    "We will creation the below ontology. This is a UML Class Diagram. \n",
    "\n",
    "<img src=\"figures/simpleOntology_UML.png\" width=\"600\" />\n",
    "\n",
    "Make sure to understand this class diagram before proceeding. It shows 10 classes in total. Two important classes are the `Element` and `Zone` classes, which both have subclasses. The `Zone` class has one child class, namely `Space`. The Element has three child classes, namely `Aggregate`, `BuildingElement`, and `BuildingEquipment`. The last two have subclasses of their own, namely `Wall`, `Sensor`, and `AirHandlingUnit`. The `Aggregate` class has an aggregation relation (1 to many) with the `Part` class. \n",
    "\n",
    "There is also a normal one-to-many relation between `Zone` and `Element`, with roles `hasElement` and `hasLocation`. Finally, one datatype property is available (attribute) with name `name` and datatype `string`."
   ]
  },
  {
   "cell_type": "markdown",
   "metadata": {},
   "source": [
    "## 3. Namespace and prefix\n",
    "First let´s give our ontology a name, e.g. \"https://example.org/myFirstOntology\". To do this, we need to add a triple statement (`s p o`) to the triplestore, which makes this statement (`https://example.org/myFirstOntology rdf:type owl:ontology`). Note that `rdflib` stores the triples in a triple store in your local memory. If a redundant triple is added, then the triple is stored only once."
   ]
  },
  {
   "cell_type": "code",
   "execution_count": 2,
   "metadata": {},
   "outputs": [
    {
     "data": {
      "text/plain": [
       "<Graph identifier=N589ace6204fb40a99c548f0cf76e00c9 (<class 'rdflib.graph.Graph'>)>"
      ]
     },
     "execution_count": 2,
     "metadata": {},
     "output_type": "execute_result"
    }
   ],
   "source": [
    "s = URIRef(\"https://example.org/myFirstOntology\")\n",
    "p = RDF.type\n",
    "o = OWL.Ontology\n",
    "g.add((s, p, o))"
   ]
  },
  {
   "cell_type": "markdown",
   "metadata": {},
   "source": [
    "Let's see what this looks like when writing out this statement, including all namespaces:"
   ]
  },
  {
   "cell_type": "code",
   "execution_count": 3,
   "metadata": {},
   "outputs": [
    {
     "name": "stdout",
     "output_type": "stream",
     "text": [
      "(rdflib.term.URIRef('https://example.org/myFirstOntology'), rdflib.term.URIRef('http://www.w3.org/1999/02/22-rdf-syntax-ns#type'), rdflib.term.URIRef('http://www.w3.org/2002/07/owl#Ontology'))\n"
     ]
    }
   ],
   "source": [
    "for s, p, o in g:\n",
    "    print((s, p, o))"
   ]
  },
  {
   "cell_type": "markdown",
   "metadata": {},
   "source": [
    "At the moment, we have a graph that contains an ontology with a namespace `https://example.org/myFirstOntology`. Other than that, the ontology is empty. To ease the use of this ontology, we will add a prefix and bind it with the namespace that we just added. We add the `owl` prefix as well as the `mfi` prefix. The `mfi` prefix is a self-chosen name, and it can be anything you prefer. Most commonly, this prefix has three characters, eg. `bot`, `ifc`, `bpo`, `fog`, `beo`, `mep`, etc."
   ]
  },
  {
   "cell_type": "code",
   "execution_count": 4,
   "metadata": {},
   "outputs": [],
   "source": [
    "g.bind(\"owl\", OWL)\n",
    "\n",
    "NS = Namespace(\"https://example.org/myFirstOntology#\")\n",
    "g.bind(\"mfi\", NS)"
   ]
  },
  {
   "cell_type": "markdown",
   "metadata": {},
   "source": [
    "## 4. Writing to file\n",
    "At all times, it is possible to write the graph that is created in memory, to a file. You can write this file in multiple file formats."
   ]
  },
  {
   "cell_type": "code",
   "execution_count": 5,
   "metadata": {},
   "outputs": [
    {
     "name": "stdout",
     "output_type": "stream",
     "text": [
      "Created output/myFirstOntology.ttl in folder:\n",
      "/Users/stefan/Repositories/FireBIM/SSolDAC2024/handson-querying-and-interaction\n"
     ]
    }
   ],
   "source": [
    "g.serialize(destination=\"output/myFirstOntology.ttl\", format=\"turtle\")\n",
    "print(\"Created output/myFirstOntology.ttl in folder:\")\n",
    "print(str(os.getcwd()))"
   ]
  },
  {
   "cell_type": "markdown",
   "metadata": {},
   "source": [
    "Have a look at the outcome in the serialised file, and see what you created."
   ]
  },
  {
   "cell_type": "markdown",
   "metadata": {},
   "source": [
    "## 5. Add your first OWL class\n",
    "Let's add the concept (owl:Class) *Aggregate* as depicted above in our target example. This is our first class. The `owl:Thing` Class is available by default. How many classes do we eventually need to create, to complete our example?"
   ]
  },
  {
   "cell_type": "code",
   "execution_count": 6,
   "metadata": {},
   "outputs": [
    {
     "data": {
      "text/plain": [
       "<Graph identifier=N589ace6204fb40a99c548f0cf76e00c9 (<class 'rdflib.graph.Graph'>)>"
      ]
     },
     "execution_count": 6,
     "metadata": {},
     "output_type": "execute_result"
    }
   ],
   "source": [
    "s = NS[\"Element\"]\n",
    "p = RDF.type\n",
    "o = OWL.Class\n",
    "g.add((s, p, o))"
   ]
  },
  {
   "cell_type": "markdown",
   "metadata": {},
   "source": [
    "Examine the result:"
   ]
  },
  {
   "cell_type": "code",
   "execution_count": 11,
   "metadata": {},
   "outputs": [
    {
     "name": "stdout",
     "output_type": "stream",
     "text": [
      "Created output/myFirstOntology.ttl in folder:\n",
      "/Users/stefan/Repositories/FireBIM/SSolDAC2024/handson-querying-and-interaction\n"
     ]
    }
   ],
   "source": [
    "g.serialize(destination=\"output/myFirstOntology.ttl\", format=\"turtle\")\n",
    "print(\"Created output/myFirstOntology.ttl in folder:\")\n",
    "print(str(os.getcwd()))"
   ]
  },
  {
   "cell_type": "markdown",
   "metadata": {},
   "source": [
    "## 6. Add other classes and properties\n",
    "After this first class, we need to create the remaining 6 classes, as well as two object properties and three subClassOf relationships (inheritance). Can you recognize how many object properties and inheritance relationships need to be created? "
   ]
  },
  {
   "cell_type": "code",
   "execution_count": 8,
   "metadata": {},
   "outputs": [],
   "source": [
    "lConcepts = [   \n",
    "    \"Aggregate\",\n",
    "    \"Part\",\n",
    "    \"BuildingElement\",\n",
    "    \"Wall\",\n",
    "    \"BuildingEquipment\",\n",
    "    \"Sensor\",\n",
    "    \"AirHandlingUnit\",\n",
    "    \"Space\",\n",
    "    \"Zone\" \n",
    "]\n",
    "\n",
    "for concept in lConcepts:\n",
    "    s = NS[concept]\n",
    "    p = RDF.type\n",
    "    o = OWL.Class\n",
    "    g.add((s, p, o))"
   ]
  },
  {
   "cell_type": "markdown",
   "metadata": {},
   "source": [
    "Now we can add the inheritance relationships for all parent-child couples (`rdfs:subClassOf`):"
   ]
  },
  {
   "cell_type": "code",
   "execution_count": 10,
   "metadata": {},
   "outputs": [
    {
     "data": {
      "text/plain": [
       "<Graph identifier=N589ace6204fb40a99c548f0cf76e00c9 (<class 'rdflib.graph.Graph'>)>"
      ]
     },
     "execution_count": 10,
     "metadata": {},
     "output_type": "execute_result"
    }
   ],
   "source": [
    "s = NS[\"Aggregate\"]\n",
    "p = RDFS.subClassOf\n",
    "o = NS[\"Element\"]\n",
    "g.add((s, p, o))\n",
    "\n",
    "s = NS[\"BuildingElement\"]\n",
    "p = RDFS.subClassOf\n",
    "o = NS[\"Element\"]\n",
    "g.add((s, p, o))\n",
    "\n",
    "s = NS[\"BuildingEquipment\"]\n",
    "p = RDFS.subClassOf\n",
    "o = NS[\"Element\"]\n",
    "g.add((s, p, o))\n",
    "\n",
    "g.add((NS[\"Wall\"], RDFS.subClassOf, NS[\"BuildingElement\"]))\n",
    "g.add((NS[\"Sensor\"], RDFS.subClassOf, NS[\"BuildingEquipment\"]))\n",
    "g.add((NS[\"AirHandlingUnit\"], RDFS.subClassOf, NS[\"BuildingEquipment\"]))\n",
    "g.add((NS[\"Space\"], RDFS.subClassOf, NS[\"Zone\"]))"
   ]
  },
  {
   "cell_type": "markdown",
   "metadata": {},
   "source": [
    "Now we can add the object properties (owl:ObjectProperty). These need to be added for all relations (except inheritance relations) in the original UML Class Diagram. This means:\n",
    "- `hasPart`\n",
    "- `hasElement`\n",
    "- `hasLocation`"
   ]
  },
  {
   "cell_type": "code",
   "execution_count": 12,
   "metadata": {},
   "outputs": [
    {
     "data": {
      "text/plain": [
       "<Graph identifier=N589ace6204fb40a99c548f0cf76e00c9 (<class 'rdflib.graph.Graph'>)>"
      ]
     },
     "execution_count": 12,
     "metadata": {},
     "output_type": "execute_result"
    }
   ],
   "source": [
    "s = NS[\"hasPart\"]\n",
    "p = RDF.type\n",
    "o = OWL.ObjectProperty\n",
    "g.add((s, p, o))\n",
    "\n",
    "s1 = NS[\"hasElement\"]\n",
    "p = RDF.type\n",
    "o = OWL.ObjectProperty\n",
    "g.add((s1, p, o))\n",
    "\n",
    "s2 = NS[\"hasLocation\"]\n",
    "p = RDF.type\n",
    "o = OWL.ObjectProperty\n",
    "g.add((s2, p, o))"
   ]
  },
  {
   "cell_type": "markdown",
   "metadata": {},
   "source": [
    "And finally the produced file is:"
   ]
  },
  {
   "cell_type": "code",
   "execution_count": 13,
   "metadata": {},
   "outputs": [
    {
     "name": "stdout",
     "output_type": "stream",
     "text": [
      "Created output/myFirstOntology.ttl in folder:\n",
      "/Users/stefan/Repositories/FireBIM/SSolDAC2024/handson-querying-and-interaction\n"
     ]
    }
   ],
   "source": [
    "g.serialize(destination=\"output/myFirstOntology.ttl\", format=\"turtle\")\n",
    "print(\"Created output/myFirstOntology.ttl in folder:\")\n",
    "print(str(os.getcwd()))"
   ]
  },
  {
   "cell_type": "markdown",
   "metadata": {},
   "source": [
    "## 7. Data properties and domain-range restrictions\n",
    "The above created ontology is a basic ontology. This can be further extended with data properties, domain and range statements, and more. With the following statements, you can add domain and range expressions. These are not restrictions. These expressions allow inferences as specified in https://www.w3.org/TR/owl2-direct-semantics/#Object_Property_Expression_Axioms. "
   ]
  },
  {
   "cell_type": "code",
   "execution_count": 14,
   "metadata": {},
   "outputs": [
    {
     "data": {
      "text/plain": [
       "<Graph identifier=N589ace6204fb40a99c548f0cf76e00c9 (<class 'rdflib.graph.Graph'>)>"
      ]
     },
     "execution_count": 14,
     "metadata": {},
     "output_type": "execute_result"
    }
   ],
   "source": [
    "g.add((NS[\"hasPart\"], RDFS.domain, NS[\"Aggregate\"]))\n",
    "g.add((NS[\"hasPart\"], RDFS.range, NS[\"Part\"]))\n",
    "\n",
    "g.add((NS[\"hasElement\"], RDFS.domain, NS[\"Zone\"]))\n",
    "g.add((NS[\"hasElement\"], RDFS.range, NS[\"Element\"]))\n",
    "\n",
    "g.add((NS[\"hasLocation\"], RDFS.domain, NS[\"Element\"]))\n",
    "g.add((NS[\"hasLocation\"], RDFS.range, NS[\"Zone\"]))"
   ]
  },
  {
   "cell_type": "markdown",
   "metadata": {},
   "source": [
    "The properties `hasElement` and `hasLocation` are inverses of each other, and this can be declared in `rdflib` as follows."
   ]
  },
  {
   "cell_type": "code",
   "execution_count": 15,
   "metadata": {},
   "outputs": [
    {
     "data": {
      "text/plain": [
       "<Graph identifier=N589ace6204fb40a99c548f0cf76e00c9 (<class 'rdflib.graph.Graph'>)>"
      ]
     },
     "execution_count": 15,
     "metadata": {},
     "output_type": "execute_result"
    }
   ],
   "source": [
    "g.add((NS[\"hasElement\"], OWL.inverseOf, NS[\"hasLocation\"]))"
   ]
  },
  {
   "cell_type": "markdown",
   "metadata": {},
   "source": [
    "This creates the following ontology."
   ]
  },
  {
   "cell_type": "code",
   "execution_count": 16,
   "metadata": {},
   "outputs": [
    {
     "name": "stdout",
     "output_type": "stream",
     "text": [
      "Created output/myFirstOntology.ttl in folder:\n",
      "/Users/stefan/Repositories/FireBIM/SSolDAC2024/handson-querying-and-interaction\n"
     ]
    }
   ],
   "source": [
    "g.serialize(destination=\"output/myFirstOntology.ttl\", format=\"turtle\")\n",
    "print(\"Created output/myFirstOntology.ttl in folder:\")\n",
    "print(str(os.getcwd()))"
   ]
  },
  {
   "cell_type": "markdown",
   "metadata": {},
   "source": [
    "Next to domain and range expressions, the ontology can be further extended with data properties. Data properties, as opposed to object properties, refer to literal values of `XSD` datatypes (`integer`, `string`, `boolean`, etc). In the below code snippet, first a generic property is created, after which `xsd:string` is added as a range expression."
   ]
  },
  {
   "cell_type": "code",
   "execution_count": 17,
   "metadata": {},
   "outputs": [
    {
     "data": {
      "text/plain": [
       "<Graph identifier=N589ace6204fb40a99c548f0cf76e00c9 (<class 'rdflib.graph.Graph'>)>"
      ]
     },
     "execution_count": 17,
     "metadata": {},
     "output_type": "execute_result"
    }
   ],
   "source": [
    "from rdflib import XSD\n",
    "\n",
    "g.add((NS[\"name\"], RDF.type, RDF.Property))\n",
    "g.add((NS[\"name\"], RDFS.range, XSD.string))"
   ]
  },
  {
   "cell_type": "markdown",
   "metadata": {},
   "source": [
    "We don't add any domain and range expressions to this data property. This means that it can be used anywhere without that this leads to any inferences in one or the other way.\n",
    "\n",
    "After this last step, we have the following ontology."
   ]
  },
  {
   "cell_type": "code",
   "execution_count": 18,
   "metadata": {},
   "outputs": [
    {
     "name": "stdout",
     "output_type": "stream",
     "text": [
      "Created output/myFirstOntology.ttl in folder:\n",
      "/Users/stefan/Repositories/FireBIM/SSolDAC2024/handson-querying-and-interaction\n"
     ]
    }
   ],
   "source": [
    "g.serialize(destination=\"output/myFirstOntology.ttl\", format=\"turtle\")\n",
    "print(\"Created output/myFirstOntology.ttl in folder:\")\n",
    "print(str(os.getcwd()))"
   ]
  }
 ],
 "metadata": {
  "kernelspec": {
   "display_name": "Python 3",
   "language": "python",
   "name": "python3"
  },
  "language_info": {
   "codemirror_mode": {
    "name": "ipython",
    "version": 3
   },
   "file_extension": ".py",
   "mimetype": "text/x-python",
   "name": "python",
   "nbconvert_exporter": "python",
   "pygments_lexer": "ipython3",
   "version": "3.12.2"
  }
 },
 "nbformat": 4,
 "nbformat_minor": 2
}
