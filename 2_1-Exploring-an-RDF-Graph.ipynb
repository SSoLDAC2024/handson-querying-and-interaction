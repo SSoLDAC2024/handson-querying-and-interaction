{
 "cells": [
  {
   "cell_type": "markdown",
   "metadata": {},
   "source": [
    "# 2.1 Exploring an RDF graph in RDFLib\n",
    "\n",
    "Within this tutorial, we will learn some basic operations with RDF data using Python and RDFLib. In this part, we will explore what a graph in RDFLib looks like. After that, we will create our own ontology and dataset using RDFLib. After that, we will do some querying of the data using [SPARQL Protocol and RDF Query\n",
    "Language (SPARQL)](https://www.w3.org/TR/rdf-sparql-query/), after which this part of the tutorial is finished."
   ]
  },
  {
   "cell_type": "markdown",
   "metadata": {},
   "source": [
    "## 1. Loading data in a Graph\n",
    "\n",
    "In this tutorial, we will work with the building model of the Atlas building on the TU Eindhoven Campus. In principle, any other IFC file or BIM model or compliant LBD graph can be used.\n",
    "\n",
    "- [Atlas_8_floor.rvt](data/Atlas_8_floor.rvt)\n",
    "- [Atlas_8_floor.ifc](data/Atlas_8_floor.ifc)\n",
    "- [Atlas_8_floor.ttl](data/Atlas_8_floor.ttl)"
   ]
  },
  {
   "cell_type": "markdown",
   "metadata": {},
   "source": [
    "First, we load the `rdflib` library so that we can work with these RDF graphs."
   ]
  },
  {
   "cell_type": "code",
   "execution_count": 1,
   "metadata": {},
   "outputs": [],
   "source": [
    "import rdflib"
   ]
  },
  {
   "cell_type": "markdown",
   "metadata": {},
   "source": [
    "Then, we create an empty graph `g`, in which we then load the RDF data of the Atlas building."
   ]
  },
  {
   "cell_type": "code",
   "execution_count": 2,
   "metadata": {},
   "outputs": [],
   "source": [
    "from rdflib import Graph , Literal , BNode , Namespace , RDF , RDFS , OWL , URIRef\n",
    "\n",
    "g = Graph()"
   ]
  },
  {
   "cell_type": "markdown",
   "metadata": {},
   "source": [
    "Then we load the RDF data from the sample TTL file into this graph."
   ]
  },
  {
   "cell_type": "code",
   "execution_count": 3,
   "metadata": {},
   "outputs": [
    {
     "name": "stderr",
     "output_type": "stream",
     "text": [
      "Failed to convert Literal lexical form to value. Datatype=http://www.w3.org/2001/XMLSchema#double, Converter=<class 'float'>\n",
      "Traceback (most recent call last):\n",
      "  File \"/Users/stefan/Repositories/FireBIM/SSolDAC2024/venv/lib/python3.12/site-packages/rdflib/term.py\", line 2119, in _castLexicalToPython\n",
      "    return conv_func(lexical)  # type: ignore[arg-type]\n",
      "           ^^^^^^^^^^^^^^^^^^\n",
      "ValueError: could not convert string to float: '.U.'\n",
      "Failed to convert Literal lexical form to value. Datatype=http://www.w3.org/2001/XMLSchema#double, Converter=<class 'float'>\n",
      "Traceback (most recent call last):\n",
      "  File \"/Users/stefan/Repositories/FireBIM/SSolDAC2024/venv/lib/python3.12/site-packages/rdflib/term.py\", line 2119, in _castLexicalToPython\n",
      "    return conv_func(lexical)  # type: ignore[arg-type]\n",
      "           ^^^^^^^^^^^^^^^^^^\n",
      "ValueError: could not convert string to float: '.U.'\n",
      "Failed to convert Literal lexical form to value. Datatype=http://www.w3.org/2001/XMLSchema#double, Converter=<class 'float'>\n",
      "Traceback (most recent call last):\n",
      "  File \"/Users/stefan/Repositories/FireBIM/SSolDAC2024/venv/lib/python3.12/site-packages/rdflib/term.py\", line 2119, in _castLexicalToPython\n",
      "    return conv_func(lexical)  # type: ignore[arg-type]\n",
      "           ^^^^^^^^^^^^^^^^^^\n",
      "ValueError: could not convert string to float: '.U.'\n",
      "Failed to convert Literal lexical form to value. Datatype=http://www.w3.org/2001/XMLSchema#double, Converter=<class 'float'>\n",
      "Traceback (most recent call last):\n",
      "  File \"/Users/stefan/Repositories/FireBIM/SSolDAC2024/venv/lib/python3.12/site-packages/rdflib/term.py\", line 2119, in _castLexicalToPython\n",
      "    return conv_func(lexical)  # type: ignore[arg-type]\n",
      "           ^^^^^^^^^^^^^^^^^^\n",
      "ValueError: could not convert string to float: '.U.'\n"
     ]
    },
    {
     "data": {
      "text/plain": [
       "<Graph identifier=N4b273911cf1448d48681bd05424ea0ec (<class 'rdflib.graph.Graph'>)>"
      ]
     },
     "execution_count": 3,
     "metadata": {},
     "output_type": "execute_result"
    }
   ],
   "source": [
    "g.parse(\"data/Atlas_8_floor.ttl\")"
   ]
  },
  {
   "cell_type": "markdown",
   "metadata": {},
   "source": [
    "You can load RDF graphs in a number of ways using `g.parse()`. You can load RDF graphs in other serialization formats, including n-triples, n3, json-ld, rdf/xml, and more. Furthermore, you can also load datasets directly from online locations. Below you can see how the Atlas dataset can be loaded from our Git repository link."
   ]
  },
  {
   "cell_type": "code",
   "execution_count": null,
   "metadata": {},
   "outputs": [],
   "source": [
    "g.parse(\"http://www.w3.org/People/Berners-Lee/card\")"
   ]
  },
  {
   "cell_type": "markdown",
   "metadata": {},
   "source": [
    "## 2. Inspecting the RDF graph\n",
    "\n",
    "After loading the RDF data, we can now inspect a few basic properties of the graph, such as its length. This function shows how many statements or triples are in this RDF graph."
   ]
  },
  {
   "cell_type": "code",
   "execution_count": 4,
   "metadata": {},
   "outputs": [
    {
     "name": "stdout",
     "output_type": "stream",
     "text": [
      "155184\n"
     ]
    }
   ],
   "source": [
    "print(len(g))"
   ]
  },
  {
   "cell_type": "markdown",
   "metadata": {},
   "source": [
    "We can also output and print these statements. We will do that below for the first 20 statements."
   ]
  },
  {
   "cell_type": "code",
   "execution_count": 5,
   "metadata": {},
   "outputs": [
    {
     "name": "stdout",
     "output_type": "stream",
     "text": [
      "(rdflib.term.URIRef('http://linkedbuildingdata.net/ifc/resources20210908_001852/wall_287744'), rdflib.term.URIRef('https://w3id.org/props#roomBounding'), rdflib.term.Literal('true', datatype=rdflib.term.URIRef('http://www.w3.org/2001/XMLSchema#boolean')))\n",
      "(rdflib.term.URIRef('http://linkedbuildingdata.net/ifc/resources20210908_001852/member_180123'), rdflib.term.URIRef('https://w3id.org/props#span'), rdflib.term.Literal('1.19', datatype=rdflib.term.URIRef('http://www.w3.org/2001/XMLSchema#double')))\n",
      "(rdflib.term.URIRef('http://linkedbuildingdata.net/ifc/resources20210908_001852/member_167593'), rdflib.term.URIRef('https://w3id.org/props#length'), rdflib.term.Literal('1.18999999999998', datatype=rdflib.term.URIRef('http://www.w3.org/2001/XMLSchema#double')))\n",
      "(rdflib.term.URIRef('http://linkedbuildingdata.net/ifc/resources20210908_001852/lightFixture_318135'), rdflib.term.URIRef('https://w3id.org/props#luminousIntensity'), rdflib.term.Literal('439.267642933631', datatype=rdflib.term.URIRef('http://www.w3.org/2001/XMLSchema#double')))\n",
      "(rdflib.term.URIRef('http://linkedbuildingdata.net/ifc/resources20210908_001852/space_81984'), rdflib.term.URIRef('https://w3id.org/bot#adjacentElement'), rdflib.term.URIRef('http://linkedbuildingdata.net/ifc/resources20210908_001852/door_285552'))\n",
      "(rdflib.term.URIRef('http://linkedbuildingdata.net/ifc/resources20210908_001852/member_132673'), rdflib.term.URIRef('https://w3id.org/props#material'), rdflib.term.Literal('Aluminium', datatype=rdflib.term.URIRef('http://www.w3.org/2001/XMLSchema#string')))\n",
      "(rdflib.term.URIRef('http://linkedbuildingdata.net/ifc/resources20210908_001852/member_342312'), rdflib.term.URIRef('https://w3id.org/props#tag'), rdflib.term.Literal('779626', datatype=rdflib.term.URIRef('http://www.w3.org/2001/XMLSchema#string')))\n",
      "(rdflib.term.URIRef('http://linkedbuildingdata.net/ifc/resources20210908_001852/plate_141784'), rdflib.term.URIRef('http://www.w3.org/1999/02/22-rdf-syntax-ns#type'), rdflib.term.URIRef('https://pi.pauwel.be/voc/buildingelement#Plate__CURTAIN_PANEL'))\n",
      "(rdflib.term.URIRef('http://linkedbuildingdata.net/ifc/resources20210908_001852/wall_334190'), rdflib.term.URIRef('https://w3id.org/bot#hasGuid'), rdflib.term.Literal('d86dec0a-3712-4f35-a110-ec44ffcf875a', datatype=rdflib.term.URIRef('http://www.w3.org/2001/XMLSchema#string')))\n",
      "(rdflib.term.URIRef('http://linkedbuildingdata.net/ifc/resources20210908_001852/wall_278768'), rdflib.term.URIRef('https://w3id.org/props#coarseScaleFillColor'), rdflib.term.Literal('0.0', datatype=rdflib.term.URIRef('http://www.w3.org/2001/XMLSchema#double')))\n",
      "(rdflib.term.URIRef('http://linkedbuildingdata.net/ifc/resources20210908_001852/member_342087'), rdflib.term.URIRef('https://w3id.org/props#phaseCreated'), rdflib.term.Literal('New Construction', datatype=rdflib.term.URIRef('http://www.w3.org/2001/XMLSchema#string')))\n",
      "(rdflib.term.URIRef('http://linkedbuildingdata.net/ifc/resources20210908_001852/member_215724'), rdflib.term.URIRef('http://www.w3.org/2000/01/rdf-schema#label'), rdflib.term.Literal('Rectangular Mullion:50 x 150mm:444184', datatype=rdflib.term.URIRef('http://www.w3.org/2001/XMLSchema#string')))\n",
      "(rdflib.term.URIRef('http://linkedbuildingdata.net/ifc/resources20210908_001852/member_184668'), rdflib.term.URIRef('http://www.w3.org/1999/02/22-rdf-syntax-ns#type'), rdflib.term.URIRef('https://pi.pauwel.be/voc/buildingelement#Member__MULLION'))\n",
      "(rdflib.term.URIRef('http://linkedbuildingdata.net/ifc/resources20210908_001852/interface_73589'), rdflib.term.URIRef('http://www.w3.org/1999/02/22-rdf-syntax-ns#type'), rdflib.term.URIRef('https://w3id.org/bot#Interface'))\n",
      "(rdflib.term.URIRef('http://linkedbuildingdata.net/ifc/resources20210908_001852/member_219774'), rdflib.term.URIRef('https://w3id.org/props#family'), rdflib.term.Literal('Rectangular Mullion: 50 x 150mm', datatype=rdflib.term.URIRef('http://www.w3.org/2001/XMLSchema#string')))\n",
      "(rdflib.term.URIRef('http://linkedbuildingdata.net/ifc/resources20210908_001852/member_342672'), rdflib.term.URIRef('https://w3id.org/props#thickness'), rdflib.term.Literal('0.15', datatype=rdflib.term.URIRef('http://www.w3.org/2001/XMLSchema#double')))\n",
      "(rdflib.term.URIRef('http://linkedbuildingdata.net/ifc/resources20210908_001852/door_310338'), rdflib.term.URIRef('https://w3id.org/props#familyandType'), rdflib.term.Literal('Simple door: Simple door', datatype=rdflib.term.URIRef('http://www.w3.org/2001/XMLSchema#string')))\n",
      "(rdflib.term.URIRef('http://linkedbuildingdata.net/ifc/resources20210908_001852/plate_204003'), rdflib.term.URIRef('https://w3id.org/props#hostId'), rdflib.term.Literal('Curtain Wall: Curtain Wall', datatype=rdflib.term.URIRef('http://www.w3.org/2001/XMLSchema#string')))\n",
      "(rdflib.term.URIRef('http://linkedbuildingdata.net/ifc/resources20210908_001852/member_183948'), rdflib.term.URIRef('https://w3id.org/props#angle'), rdflib.term.Literal('0.0', datatype=rdflib.term.URIRef('http://www.w3.org/2001/XMLSchema#double')))\n",
      "(rdflib.term.URIRef('http://linkedbuildingdata.net/ifc/resources20210908_001852/member_133303'), rdflib.term.URIRef('https://w3id.org/props#type'), rdflib.term.Literal('Rectangular Mullion: 50 x 150mm', datatype=rdflib.term.URIRef('http://www.w3.org/2001/XMLSchema#string')))\n"
     ]
    }
   ],
   "source": [
    "import pprint\n",
    "\n",
    "count = 0\n",
    "for stmt in g:\n",
    "    print(stmt)\n",
    "    count += 1\n",
    "    if count >= 20:\n",
    "        break"
   ]
  },
  {
   "cell_type": "markdown",
   "metadata": {},
   "source": [
    "## 3. Basic queries\n",
    "\n",
    "The loaded dataset can be most commonly inspected using SPARQL queries. The below query shows how to query for all instances of type ```bot:Building```."
   ]
  },
  {
   "cell_type": "code",
   "execution_count": 6,
   "metadata": {},
   "outputs": [
    {
     "name": "stdout",
     "output_type": "stream",
     "text": [
      "Found these buildings: \n",
      "http://linkedbuildingdata.net/ifc/resources20210908_001852/building_137\n"
     ]
    }
   ],
   "source": [
    "ourQuery = \"\"\"PREFIX bot: <https://w3id.org/bot#>\n",
    "PREFIX rdf: <http://www.w3.org/1999/02/22-rdf-syntax-ns#>\n",
    "\n",
    "SELECT ?b\n",
    "WHERE{ ?b rdf:type bot:Building }\"\"\"\n",
    "\n",
    "qres = g.query(ourQuery)\n",
    "\n",
    "print( \"Found these buildings: \" )\n",
    "for row in qres:\n",
    "    print(f\"{row.b}\")"
   ]
  },
  {
   "cell_type": "markdown",
   "metadata": {},
   "source": [
    "Now we query for all spaces (```bot:Space```)."
   ]
  },
  {
   "cell_type": "code",
   "execution_count": 7,
   "metadata": {},
   "outputs": [
    {
     "name": "stdout",
     "output_type": "stream",
     "text": [
      "Found these spaces: \n",
      "http://linkedbuildingdata.net/ifc/resources20210908_001852/space_247\n",
      "http://linkedbuildingdata.net/ifc/resources20210908_001852/space_517\n",
      "http://linkedbuildingdata.net/ifc/resources20210908_001852/space_790\n",
      "http://linkedbuildingdata.net/ifc/resources20210908_001852/space_1080\n",
      "http://linkedbuildingdata.net/ifc/resources20210908_001852/space_1349\n",
      "http://linkedbuildingdata.net/ifc/resources20210908_001852/space_1619\n",
      "http://linkedbuildingdata.net/ifc/resources20210908_001852/space_1884\n",
      "http://linkedbuildingdata.net/ifc/resources20210908_001852/space_2690\n",
      "http://linkedbuildingdata.net/ifc/resources20210908_001852/space_3013\n",
      "http://linkedbuildingdata.net/ifc/resources20210908_001852/space_3278\n",
      "http://linkedbuildingdata.net/ifc/resources20210908_001852/space_3593\n",
      "http://linkedbuildingdata.net/ifc/resources20210908_001852/space_3862\n",
      "http://linkedbuildingdata.net/ifc/resources20210908_001852/space_4155\n",
      "http://linkedbuildingdata.net/ifc/resources20210908_001852/space_4429\n",
      "http://linkedbuildingdata.net/ifc/resources20210908_001852/space_4765\n",
      "http://linkedbuildingdata.net/ifc/resources20210908_001852/space_5066\n",
      "http://linkedbuildingdata.net/ifc/resources20210908_001852/space_5631\n",
      "http://linkedbuildingdata.net/ifc/resources20210908_001852/space_5860\n",
      "http://linkedbuildingdata.net/ifc/resources20210908_001852/space_6122\n",
      "http://linkedbuildingdata.net/ifc/resources20210908_001852/space_6377\n",
      "http://linkedbuildingdata.net/ifc/resources20210908_001852/space_6882\n",
      "http://linkedbuildingdata.net/ifc/resources20210908_001852/space_7710\n",
      "http://linkedbuildingdata.net/ifc/resources20210908_001852/space_7992\n",
      "http://linkedbuildingdata.net/ifc/resources20210908_001852/space_8236\n",
      "http://linkedbuildingdata.net/ifc/resources20210908_001852/space_8530\n",
      "http://linkedbuildingdata.net/ifc/resources20210908_001852/space_8773\n",
      "http://linkedbuildingdata.net/ifc/resources20210908_001852/space_9004\n",
      "http://linkedbuildingdata.net/ifc/resources20210908_001852/space_9261\n",
      "http://linkedbuildingdata.net/ifc/resources20210908_001852/space_9529\n",
      "http://linkedbuildingdata.net/ifc/resources20210908_001852/space_9891\n",
      "http://linkedbuildingdata.net/ifc/resources20210908_001852/space_10293\n",
      "http://linkedbuildingdata.net/ifc/resources20210908_001852/space_10650\n",
      "http://linkedbuildingdata.net/ifc/resources20210908_001852/space_10950\n",
      "http://linkedbuildingdata.net/ifc/resources20210908_001852/space_11249\n",
      "http://linkedbuildingdata.net/ifc/resources20210908_001852/space_11515\n",
      "http://linkedbuildingdata.net/ifc/resources20210908_001852/space_11881\n",
      "http://linkedbuildingdata.net/ifc/resources20210908_001852/space_12191\n",
      "http://linkedbuildingdata.net/ifc/resources20210908_001852/space_12445\n",
      "http://linkedbuildingdata.net/ifc/resources20210908_001852/space_12697\n",
      "http://linkedbuildingdata.net/ifc/resources20210908_001852/space_13214\n",
      "http://linkedbuildingdata.net/ifc/resources20210908_001852/space_13622\n",
      "http://linkedbuildingdata.net/ifc/resources20210908_001852/space_13950\n",
      "http://linkedbuildingdata.net/ifc/resources20210908_001852/space_14542\n",
      "http://linkedbuildingdata.net/ifc/resources20210908_001852/space_14855\n",
      "http://linkedbuildingdata.net/ifc/resources20210908_001852/space_15597\n",
      "http://linkedbuildingdata.net/ifc/resources20210908_001852/space_16004\n",
      "http://linkedbuildingdata.net/ifc/resources20210908_001852/space_16524\n",
      "http://linkedbuildingdata.net/ifc/resources20210908_001852/space_17484\n",
      "http://linkedbuildingdata.net/ifc/resources20210908_001852/space_17838\n",
      "http://linkedbuildingdata.net/ifc/resources20210908_001852/space_18192\n",
      "http://linkedbuildingdata.net/ifc/resources20210908_001852/space_19161\n",
      "http://linkedbuildingdata.net/ifc/resources20210908_001852/space_19486\n",
      "http://linkedbuildingdata.net/ifc/resources20210908_001852/space_19715\n",
      "http://linkedbuildingdata.net/ifc/resources20210908_001852/space_19974\n",
      "http://linkedbuildingdata.net/ifc/resources20210908_001852/space_20231\n",
      "http://linkedbuildingdata.net/ifc/resources20210908_001852/space_20460\n",
      "http://linkedbuildingdata.net/ifc/resources20210908_001852/space_20726\n",
      "http://linkedbuildingdata.net/ifc/resources20210908_001852/space_22016\n",
      "http://linkedbuildingdata.net/ifc/resources20210908_001852/space_23001\n",
      "http://linkedbuildingdata.net/ifc/resources20210908_001852/space_23390\n",
      "http://linkedbuildingdata.net/ifc/resources20210908_001852/space_23866\n",
      "http://linkedbuildingdata.net/ifc/resources20210908_001852/space_24196\n",
      "http://linkedbuildingdata.net/ifc/resources20210908_001852/space_24572\n",
      "http://linkedbuildingdata.net/ifc/resources20210908_001852/space_25213\n",
      "http://linkedbuildingdata.net/ifc/resources20210908_001852/space_25570\n",
      "http://linkedbuildingdata.net/ifc/resources20210908_001852/space_25897\n",
      "http://linkedbuildingdata.net/ifc/resources20210908_001852/space_26562\n",
      "http://linkedbuildingdata.net/ifc/resources20210908_001852/space_27085\n",
      "http://linkedbuildingdata.net/ifc/resources20210908_001852/space_27421\n",
      "http://linkedbuildingdata.net/ifc/resources20210908_001852/space_28129\n",
      "http://linkedbuildingdata.net/ifc/resources20210908_001852/space_28889\n",
      "http://linkedbuildingdata.net/ifc/resources20210908_001852/space_29311\n",
      "http://linkedbuildingdata.net/ifc/resources20210908_001852/space_29788\n",
      "http://linkedbuildingdata.net/ifc/resources20210908_001852/space_30279\n",
      "http://linkedbuildingdata.net/ifc/resources20210908_001852/space_30840\n",
      "http://linkedbuildingdata.net/ifc/resources20210908_001852/space_31152\n",
      "http://linkedbuildingdata.net/ifc/resources20210908_001852/space_31598\n",
      "http://linkedbuildingdata.net/ifc/resources20210908_001852/space_31950\n",
      "http://linkedbuildingdata.net/ifc/resources20210908_001852/space_32612\n",
      "http://linkedbuildingdata.net/ifc/resources20210908_001852/space_33568\n",
      "http://linkedbuildingdata.net/ifc/resources20210908_001852/space_33827\n",
      "http://linkedbuildingdata.net/ifc/resources20210908_001852/space_34165\n",
      "http://linkedbuildingdata.net/ifc/resources20210908_001852/space_34450\n",
      "http://linkedbuildingdata.net/ifc/resources20210908_001852/space_34693\n",
      "http://linkedbuildingdata.net/ifc/resources20210908_001852/space_34937\n",
      "http://linkedbuildingdata.net/ifc/resources20210908_001852/space_35248\n",
      "http://linkedbuildingdata.net/ifc/resources20210908_001852/space_35917\n",
      "http://linkedbuildingdata.net/ifc/resources20210908_001852/space_36229\n",
      "http://linkedbuildingdata.net/ifc/resources20210908_001852/space_36681\n",
      "http://linkedbuildingdata.net/ifc/resources20210908_001852/space_36993\n",
      "http://linkedbuildingdata.net/ifc/resources20210908_001852/space_37418\n",
      "http://linkedbuildingdata.net/ifc/resources20210908_001852/space_37778\n",
      "http://linkedbuildingdata.net/ifc/resources20210908_001852/space_38394\n",
      "http://linkedbuildingdata.net/ifc/resources20210908_001852/space_39011\n",
      "http://linkedbuildingdata.net/ifc/resources20210908_001852/space_39381\n",
      "http://linkedbuildingdata.net/ifc/resources20210908_001852/space_39836\n",
      "http://linkedbuildingdata.net/ifc/resources20210908_001852/space_40380\n",
      "http://linkedbuildingdata.net/ifc/resources20210908_001852/space_40723\n",
      "http://linkedbuildingdata.net/ifc/resources20210908_001852/space_41229\n",
      "http://linkedbuildingdata.net/ifc/resources20210908_001852/space_41508\n",
      "http://linkedbuildingdata.net/ifc/resources20210908_001852/space_41776\n",
      "http://linkedbuildingdata.net/ifc/resources20210908_001852/space_42021\n",
      "http://linkedbuildingdata.net/ifc/resources20210908_001852/space_42321\n",
      "http://linkedbuildingdata.net/ifc/resources20210908_001852/space_42632\n",
      "http://linkedbuildingdata.net/ifc/resources20210908_001852/space_42972\n",
      "http://linkedbuildingdata.net/ifc/resources20210908_001852/space_43592\n",
      "http://linkedbuildingdata.net/ifc/resources20210908_001852/space_50683\n",
      "http://linkedbuildingdata.net/ifc/resources20210908_001852/space_52365\n",
      "http://linkedbuildingdata.net/ifc/resources20210908_001852/space_53165\n",
      "http://linkedbuildingdata.net/ifc/resources20210908_001852/space_54378\n",
      "http://linkedbuildingdata.net/ifc/resources20210908_001852/space_56569\n",
      "http://linkedbuildingdata.net/ifc/resources20210908_001852/space_57876\n",
      "http://linkedbuildingdata.net/ifc/resources20210908_001852/space_61282\n",
      "http://linkedbuildingdata.net/ifc/resources20210908_001852/space_62594\n",
      "http://linkedbuildingdata.net/ifc/resources20210908_001852/space_64544\n",
      "http://linkedbuildingdata.net/ifc/resources20210908_001852/space_67614\n",
      "http://linkedbuildingdata.net/ifc/resources20210908_001852/space_68004\n",
      "http://linkedbuildingdata.net/ifc/resources20210908_001852/space_68438\n",
      "http://linkedbuildingdata.net/ifc/resources20210908_001852/space_69978\n",
      "http://linkedbuildingdata.net/ifc/resources20210908_001852/space_70296\n",
      "http://linkedbuildingdata.net/ifc/resources20210908_001852/space_70657\n",
      "http://linkedbuildingdata.net/ifc/resources20210908_001852/space_70975\n",
      "http://linkedbuildingdata.net/ifc/resources20210908_001852/space_71350\n",
      "http://linkedbuildingdata.net/ifc/resources20210908_001852/space_71816\n",
      "http://linkedbuildingdata.net/ifc/resources20210908_001852/space_72152\n",
      "http://linkedbuildingdata.net/ifc/resources20210908_001852/space_72547\n",
      "http://linkedbuildingdata.net/ifc/resources20210908_001852/space_72838\n",
      "http://linkedbuildingdata.net/ifc/resources20210908_001852/space_73272\n",
      "http://linkedbuildingdata.net/ifc/resources20210908_001852/space_73530\n",
      "http://linkedbuildingdata.net/ifc/resources20210908_001852/space_73809\n",
      "http://linkedbuildingdata.net/ifc/resources20210908_001852/space_74419\n",
      "http://linkedbuildingdata.net/ifc/resources20210908_001852/space_74816\n",
      "http://linkedbuildingdata.net/ifc/resources20210908_001852/space_75243\n",
      "http://linkedbuildingdata.net/ifc/resources20210908_001852/space_75606\n",
      "http://linkedbuildingdata.net/ifc/resources20210908_001852/space_75967\n",
      "http://linkedbuildingdata.net/ifc/resources20210908_001852/space_76763\n",
      "http://linkedbuildingdata.net/ifc/resources20210908_001852/space_77125\n",
      "http://linkedbuildingdata.net/ifc/resources20210908_001852/space_77388\n",
      "http://linkedbuildingdata.net/ifc/resources20210908_001852/space_77792\n",
      "http://linkedbuildingdata.net/ifc/resources20210908_001852/space_78044\n",
      "http://linkedbuildingdata.net/ifc/resources20210908_001852/space_78406\n",
      "http://linkedbuildingdata.net/ifc/resources20210908_001852/space_78721\n",
      "http://linkedbuildingdata.net/ifc/resources20210908_001852/space_79295\n",
      "http://linkedbuildingdata.net/ifc/resources20210908_001852/space_80099\n",
      "http://linkedbuildingdata.net/ifc/resources20210908_001852/space_80658\n",
      "http://linkedbuildingdata.net/ifc/resources20210908_001852/space_80973\n",
      "http://linkedbuildingdata.net/ifc/resources20210908_001852/space_81387\n",
      "http://linkedbuildingdata.net/ifc/resources20210908_001852/space_81693\n",
      "http://linkedbuildingdata.net/ifc/resources20210908_001852/space_81984\n",
      "http://linkedbuildingdata.net/ifc/resources20210908_001852/space_82414\n",
      "http://linkedbuildingdata.net/ifc/resources20210908_001852/space_82691\n",
      "http://linkedbuildingdata.net/ifc/resources20210908_001852/space_83131\n",
      "http://linkedbuildingdata.net/ifc/resources20210908_001852/space_83518\n",
      "http://linkedbuildingdata.net/ifc/resources20210908_001852/space_83913\n",
      "http://linkedbuildingdata.net/ifc/resources20210908_001852/space_84289\n",
      "http://linkedbuildingdata.net/ifc/resources20210908_001852/space_84581\n",
      "http://linkedbuildingdata.net/ifc/resources20210908_001852/space_84963\n"
     ]
    }
   ],
   "source": [
    "ourQuery = \"\"\"PREFIX bot: <https://w3id.org/bot#>\n",
    "PREFIX rdf: <http://www.w3.org/1999/02/22-rdf-syntax-ns#>\n",
    "\n",
    "SELECT ?s\n",
    "WHERE{ ?s rdf:type bot:Space }\"\"\"\n",
    "\n",
    "qres = g.query(ourQuery)\n",
    "\n",
    "print( \"Found these spaces: \" )\n",
    "for row in qres:\n",
    "    print(f\"{row.s}\")"
   ]
  },
  {
   "cell_type": "markdown",
   "metadata": {},
   "source": [
    "Query for all instances of ```bot:Element```:"
   ]
  },
  {
   "cell_type": "code",
   "execution_count": null,
   "metadata": {},
   "outputs": [],
   "source": [
    "ourQuery = \"\"\"PREFIX bot: <https://w3id.org/bot#>\n",
    "PREFIX rdf: <http://www.w3.org/1999/02/22-rdf-syntax-ns#>\n",
    "\n",
    "SELECT ?element\n",
    "WHERE{ ?element rdf:type bot:Element }\"\"\"\n",
    "\n",
    "qres = g.query(ourQuery)\n",
    "\n",
    "print( \"Found these elements: \" )\n",
    "for row in qres:\n",
    "    print(f\"{row.element}\")"
   ]
  },
  {
   "cell_type": "markdown",
   "metadata": {},
   "source": [
    "# 4. Writing the RDF graph to a file\n",
    "\n",
    "Of course, the loaded in-memory RDF graph is up to this moment only available in memory. The simplest way to save your work, is to serialise the RDF graph to an output file. You can choose a number of serialisation formats. Find them all below.\n",
    "\n",
    "![image](figures/RDFformats_rdflib.png)\n"
   ]
  },
  {
   "cell_type": "code",
   "execution_count": 8,
   "metadata": {},
   "outputs": [
    {
     "name": "stderr",
     "output_type": "stream",
     "text": [
      "/Users/stefan/Repositories/FireBIM/SSolDAC2024/venv/lib/python3.12/site-packages/rdflib/term.py:1585: UserWarning: Serializing weird numerical rdflib.term.Literal('.U.', datatype=rdflib.term.URIRef('http://www.w3.org/2001/XMLSchema#double'))\n",
      "  warnings.warn(\"Serializing weird numerical %r\" % self)\n"
     ]
    },
    {
     "data": {
      "text/plain": [
       "<Graph identifier=N4b273911cf1448d48681bd05424ea0ec (<class 'rdflib.graph.Graph'>)>"
      ]
     },
     "execution_count": 8,
     "metadata": {},
     "output_type": "execute_result"
    }
   ],
   "source": [
    "g.serialize(destination=\"output/myGraph.ttl\")"
   ]
  },
  {
   "cell_type": "code",
   "execution_count": 10,
   "metadata": {},
   "outputs": [
    {
     "data": {
      "text/plain": [
       "<Graph identifier=N4b273911cf1448d48681bd05424ea0ec (<class 'rdflib.graph.Graph'>)>"
      ]
     },
     "execution_count": 10,
     "metadata": {},
     "output_type": "execute_result"
    }
   ],
   "source": [
    "g.serialize(destination=\"output/myGraph.xml\", format=\"xml\")"
   ]
  },
  {
   "cell_type": "code",
   "execution_count": 11,
   "metadata": {},
   "outputs": [
    {
     "data": {
      "text/plain": [
       "<Graph identifier=N4b273911cf1448d48681bd05424ea0ec (<class 'rdflib.graph.Graph'>)>"
      ]
     },
     "execution_count": 11,
     "metadata": {},
     "output_type": "execute_result"
    }
   ],
   "source": [
    "g.serialize(destination=\"output/myGraph.json-ld\", format=\"json-ld\")"
   ]
  },
  {
   "cell_type": "code",
   "execution_count": 12,
   "metadata": {},
   "outputs": [
    {
     "name": "stderr",
     "output_type": "stream",
     "text": [
      "/Users/stefan/Repositories/FireBIM/SSolDAC2024/venv/lib/python3.12/site-packages/rdflib/plugins/serializers/nt.py:40: UserWarning: NTSerializer always uses UTF-8 encoding. Given encoding was: None\n",
      "  warnings.warn(\n"
     ]
    },
    {
     "data": {
      "text/plain": [
       "<Graph identifier=N4b273911cf1448d48681bd05424ea0ec (<class 'rdflib.graph.Graph'>)>"
      ]
     },
     "execution_count": 12,
     "metadata": {},
     "output_type": "execute_result"
    }
   ],
   "source": [
    "g.serialize(destination=\"output/myGraph.nt\", format=\"nt\")"
   ]
  },
  {
   "cell_type": "code",
   "execution_count": 13,
   "metadata": {},
   "outputs": [
    {
     "name": "stderr",
     "output_type": "stream",
     "text": [
      "/Users/stefan/Repositories/FireBIM/SSolDAC2024/venv/lib/python3.12/site-packages/rdflib/term.py:1585: UserWarning: Serializing weird numerical rdflib.term.Literal('.U.', datatype=rdflib.term.URIRef('http://www.w3.org/2001/XMLSchema#double'))\n",
      "  warnings.warn(\"Serializing weird numerical %r\" % self)\n"
     ]
    },
    {
     "data": {
      "text/plain": [
       "<Graph identifier=N4b273911cf1448d48681bd05424ea0ec (<class 'rdflib.graph.Graph'>)>"
      ]
     },
     "execution_count": 13,
     "metadata": {},
     "output_type": "execute_result"
    }
   ],
   "source": [
    "g.serialize(destination=\"output/myGraph.n3\", format=\"n3\")"
   ]
  },
  {
   "cell_type": "markdown",
   "metadata": {},
   "source": [
    "You can do basic RDF handling using RDFLib and Python. Let's proceed with creating a dataset (ABox) and an ontology (TBox)!"
   ]
  }
 ],
 "metadata": {
  "kernelspec": {
   "display_name": "Python 3",
   "language": "python",
   "name": "python3"
  },
  "language_info": {
   "codemirror_mode": {
    "name": "ipython",
    "version": 3
   },
   "file_extension": ".py",
   "mimetype": "text/x-python",
   "name": "python",
   "nbconvert_exporter": "python",
   "pygments_lexer": "ipython3",
   "version": "3.12.2"
  }
 },
 "nbformat": 4,
 "nbformat_minor": 2
}
