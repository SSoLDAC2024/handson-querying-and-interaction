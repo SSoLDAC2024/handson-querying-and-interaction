{
 "cells": [
  {
   "cell_type": "markdown",
   "metadata": {},
   "source": [
    "# 3.2 Creating LBD data from scratch\n",
    "\n",
    "In this part, we will create a building model from scratch using the `BOT`, `BEO`, and `MEP` ontologies. This will result in an RDF graph or an ABox model (Assertion Box).\n",
    "\n",
    "- `BOT`: https://w3id.org/bot#\n",
    "- `BEO`: https://w3id.org/beo#\n",
    "- `MEP`: https://pi.pauwel.be/voc/distributionelement#"
   ]
  },
  {
   "cell_type": "markdown",
   "metadata": {},
   "source": [
    "## 1. Create initial Graph in RDFLib\n",
    "We now setup again `rdflib` and our initial graph with the needed prefixes and namespaces."
   ]
  },
  {
   "cell_type": "code",
   "execution_count": 29,
   "metadata": {},
   "outputs": [
    {
     "data": {
      "text/plain": [
       "<Graph identifier=N5fb5aaa27b3e4e87836d3924d55e7f64 (<class 'rdflib.graph.Graph'>)>"
      ]
     },
     "execution_count": 29,
     "metadata": {},
     "output_type": "execute_result"
    }
   ],
   "source": [
    "# Import needed components from rdflib\n",
    "from rdflib import Graph , Literal , BNode , Namespace , RDF , RDFS , OWL , URIRef\n",
    "\n",
    "# initiate triple store, i.e. Graph()\n",
    "g = Graph()\n",
    "\n",
    "# Add namespaces and prefixes for ontologies\n",
    "g.bind(\"owl\", OWL)\n",
    "BOT = Namespace(\"https://w3id.org/bot#\")\n",
    "g.bind(\"bot\", BOT)\n",
    "BEO = Namespace(\"https://w3id.org/beo#\")\n",
    "g.bind(\"beo\", BEO)\n",
    "MEP = Namespace(\"https://pi.pauwel.be/voc/distributionelement#\")\n",
    "g.bind(\"mep\", MEP)\n",
    "\n",
    "# Add namespace and prefix for instance graph (ABox)\n",
    "INST = Namespace(\"https://example.org/OurBuilding#\")\n",
    "g.bind(\"\", INST) # bind to default empty prefix\n",
    "g.bind(\"inst\", INST) # bind to inst prefix\n",
    "\n",
    "# Initiate ontology entity\n",
    "s = URIRef(\"https://example.org/OurBuilding\")\n",
    "p = RDF.type\n",
    "o = OWL.Ontology\n",
    "g.add((s, p, o))"
   ]
  },
  {
   "cell_type": "markdown",
   "metadata": {},
   "source": [
    "## 2. Adding sites, buildings, building storeys, and spaces\n",
    "We will add in our graph:\n",
    "- 1 site\n",
    "- 1 building\n",
    "- 3 storeys\n",
    "- a different number of spaces per storey\n",
    "\n",
    "Let's start with the site."
   ]
  },
  {
   "cell_type": "code",
   "execution_count": 30,
   "metadata": {},
   "outputs": [
    {
     "data": {
      "text/plain": [
       "<Graph identifier=N5fb5aaa27b3e4e87836d3924d55e7f64 (<class 'rdflib.graph.Graph'>)>"
      ]
     },
     "execution_count": 30,
     "metadata": {},
     "output_type": "execute_result"
    }
   ],
   "source": [
    "# Add site\n",
    "s = INST[\"site_1\"]\n",
    "p = RDF.type\n",
    "o = BOT[\"Site\"]\n",
    "g.add((s, p, o))\n",
    "# Add a simple name\n",
    "g.add((s, RDFS.label, Literal(\"Site 1\")))"
   ]
  },
  {
   "cell_type": "markdown",
   "metadata": {},
   "source": [
    "Now let's add also the building and all storeys and spaces."
   ]
  },
  {
   "cell_type": "code",
   "execution_count": 31,
   "metadata": {},
   "outputs": [
    {
     "name": "stdout",
     "output_type": "stream",
     "text": [
      "1\n",
      "2\n",
      "3\n",
      "4\n",
      "5\n",
      "6\n",
      "7\n",
      "8\n",
      "9\n",
      "10\n",
      "11\n",
      "12\n",
      "13\n",
      "14\n",
      "15\n",
      "16\n",
      "17\n",
      "18\n"
     ]
    }
   ],
   "source": [
    "import random\n",
    "\n",
    "# Add building\n",
    "b = INST[\"building_1\"]\n",
    "p = RDF.type\n",
    "o = BOT[\"Building\"]\n",
    "g.add((b, p, o))\n",
    "g.add((b, RDFS.label, Literal(\"Our building\")))\n",
    "\n",
    "# Add building to site\n",
    "g.add((s, BOT[\"hasBuilding\"], b))\n",
    "\n",
    "spacecounter = 0\n",
    "\n",
    "# Add 3 storeys\n",
    "for i in range(3):\n",
    "    st = INST[\"storey_\"+str(i)]\n",
    "    p = RDF.type\n",
    "    o = BOT[\"Storey\"]\n",
    "    g.add((st, p, o))\n",
    "    g.add((st, RDFS.label, Literal(\"Storey \" + str(i))))\n",
    "    \n",
    "    # Add storey to building\n",
    "    g.add((b, BOT[\"hasStorey\"], st))\n",
    "\n",
    "    # Add random number of spaces to each storey\n",
    "    number = random.randint(1, 10)\n",
    "    for j in range(number):\n",
    "        sp = INST[\"space_\"+str(spacecounter)]\n",
    "        p = RDF.type\n",
    "        o = BOT[\"Space\"]\n",
    "        g.add((sp, p, o))\n",
    "        g.add((sp, RDFS.label, Literal(\"Space \" + str(spacecounter))))\n",
    "        spacecounter+=1\n",
    "        print(spacecounter)\n",
    "\n",
    "        # Add space to storey\n",
    "        g.add((st, BOT[\"hasSpace\"], sp))\n"
   ]
  },
  {
   "cell_type": "markdown",
   "metadata": {},
   "source": [
    "## 3. Inspect our results\n",
    "Let's see what we created."
   ]
  },
  {
   "cell_type": "code",
   "execution_count": 23,
   "metadata": {},
   "outputs": [
    {
     "name": "stdout",
     "output_type": "stream",
     "text": [
      "(rdflib.term.URIRef('https://example.org/OurBuilding#storey_1'), rdflib.term.URIRef('http://www.w3.org/2000/01/rdf-schema#label'), rdflib.term.Literal('Storey 1'))\n",
      "(rdflib.term.URIRef('https://example.org/OurBuilding#storey_1'), rdflib.term.URIRef('https://w3id.org/bot#hasSpace'), rdflib.term.URIRef('https://example.org/OurBuilding#space_11'))\n",
      "(rdflib.term.URIRef('https://example.org/OurBuilding#space_13'), rdflib.term.URIRef('http://www.w3.org/2000/01/rdf-schema#label'), rdflib.term.Literal('Space 13'))\n",
      "(rdflib.term.URIRef('https://example.org/OurBuilding#site_1'), rdflib.term.URIRef('http://www.w3.org/2000/01/rdf-schema#label'), rdflib.term.Literal('Site 1'))\n",
      "(rdflib.term.URIRef('https://example.org/OurBuilding#space_19'), rdflib.term.URIRef('http://www.w3.org/2000/01/rdf-schema#label'), rdflib.term.Literal('Space 19'))\n",
      "(rdflib.term.URIRef('https://example.org/OurBuilding#space_9'), rdflib.term.URIRef('http://www.w3.org/1999/02/22-rdf-syntax-ns#type'), rdflib.term.URIRef('https://w3id.org/bot#Space'))\n",
      "(rdflib.term.URIRef('https://example.org/OurBuilding#space_17'), rdflib.term.URIRef('http://www.w3.org/2000/01/rdf-schema#label'), rdflib.term.Literal('Space 17'))\n",
      "(rdflib.term.URIRef('https://example.org/OurBuilding#building_1'), rdflib.term.URIRef('https://w3id.org/bot#hasStorey'), rdflib.term.URIRef('https://example.org/OurBuilding#storey_2'))\n",
      "(rdflib.term.URIRef('https://example.org/OurBuilding#space_3'), rdflib.term.URIRef('http://www.w3.org/1999/02/22-rdf-syntax-ns#type'), rdflib.term.URIRef('https://w3id.org/bot#Space'))\n",
      "(rdflib.term.URIRef('https://example.org/OurBuilding#space_7'), rdflib.term.URIRef('http://www.w3.org/1999/02/22-rdf-syntax-ns#type'), rdflib.term.URIRef('https://w3id.org/bot#Space'))\n",
      "(rdflib.term.URIRef('https://example.org/OurBuilding#storey_2'), rdflib.term.URIRef('http://www.w3.org/2000/01/rdf-schema#label'), rdflib.term.Literal('Storey 2'))\n",
      "(rdflib.term.URIRef('https://example.org/OurBuilding#storey_2'), rdflib.term.URIRef('https://w3id.org/bot#hasSpace'), rdflib.term.URIRef('https://example.org/OurBuilding#space_11'))\n",
      "(rdflib.term.URIRef('https://example.org/OurBuilding#space_0'), rdflib.term.URIRef('http://www.w3.org/2000/01/rdf-schema#label'), rdflib.term.Literal('Space 0'))\n",
      "(rdflib.term.URIRef('https://example.org/OurBuilding#space_13'), rdflib.term.URIRef('http://www.w3.org/1999/02/22-rdf-syntax-ns#type'), rdflib.term.URIRef('https://w3id.org/bot#Space'))\n",
      "(rdflib.term.URIRef('https://example.org/OurBuilding#space_19'), rdflib.term.URIRef('http://www.w3.org/1999/02/22-rdf-syntax-ns#type'), rdflib.term.URIRef('https://w3id.org/bot#Space'))\n",
      "(rdflib.term.URIRef('https://example.org/OurBuilding'), rdflib.term.URIRef('http://www.w3.org/1999/02/22-rdf-syntax-ns#type'), rdflib.term.URIRef('http://www.w3.org/2002/07/owl#Ontology'))\n",
      "(rdflib.term.URIRef('https://example.org/OurBuilding#storey_0'), rdflib.term.URIRef('https://w3id.org/bot#hasSpace'), rdflib.term.URIRef('https://example.org/OurBuilding#space_0'))\n",
      "(rdflib.term.URIRef('https://example.org/OurBuilding#storey_0'), rdflib.term.URIRef('http://www.w3.org/2000/01/rdf-schema#label'), rdflib.term.Literal('Storey 0'))\n",
      "(rdflib.term.URIRef('https://example.org/OurBuilding#storey_1'), rdflib.term.URIRef('https://w3id.org/bot#hasSpace'), rdflib.term.URIRef('https://example.org/OurBuilding#space_15'))\n",
      "(rdflib.term.URIRef('https://example.org/OurBuilding#storey_1'), rdflib.term.URIRef('https://w3id.org/bot#hasSpace'), rdflib.term.URIRef('https://example.org/OurBuilding#space_3'))\n",
      "(rdflib.term.URIRef('https://example.org/OurBuilding#building_1'), rdflib.term.URIRef('https://w3id.org/bot#hasStorey'), rdflib.term.URIRef('https://example.org/OurBuilding#storey_0'))\n",
      "(rdflib.term.URIRef('https://example.org/OurBuilding#storey_1'), rdflib.term.URIRef('https://w3id.org/bot#hasSpace'), rdflib.term.URIRef('https://example.org/OurBuilding#space_17'))\n",
      "(rdflib.term.URIRef('https://example.org/OurBuilding#storey_1'), rdflib.term.URIRef('https://w3id.org/bot#hasSpace'), rdflib.term.URIRef('https://example.org/OurBuilding#space_1'))\n",
      "(rdflib.term.URIRef('https://example.org/OurBuilding#storey_1'), rdflib.term.URIRef('https://w3id.org/bot#hasSpace'), rdflib.term.URIRef('https://example.org/OurBuilding#space_19'))\n",
      "(rdflib.term.URIRef('https://example.org/OurBuilding#space_7'), rdflib.term.URIRef('http://www.w3.org/2000/01/rdf-schema#label'), rdflib.term.Literal('Space 7'))\n",
      "(rdflib.term.URIRef('https://example.org/OurBuilding#space_5'), rdflib.term.URIRef('http://www.w3.org/2000/01/rdf-schema#label'), rdflib.term.Literal('Space 5'))\n",
      "(rdflib.term.URIRef('https://example.org/OurBuilding#storey_1'), rdflib.term.URIRef('https://w3id.org/bot#hasSpace'), rdflib.term.URIRef('https://example.org/OurBuilding#space_5'))\n",
      "(rdflib.term.URIRef('https://example.org/OurBuilding#storey_1'), rdflib.term.URIRef('https://w3id.org/bot#hasSpace'), rdflib.term.URIRef('https://example.org/OurBuilding#space_7'))\n",
      "(rdflib.term.URIRef('https://example.org/OurBuilding#storey_1'), rdflib.term.URIRef('https://w3id.org/bot#hasSpace'), rdflib.term.URIRef('https://example.org/OurBuilding#space_9'))\n",
      "(rdflib.term.URIRef('https://example.org/OurBuilding#space_9'), rdflib.term.URIRef('http://www.w3.org/2000/01/rdf-schema#label'), rdflib.term.Literal('Space 9'))\n",
      "(rdflib.term.URIRef('https://example.org/OurBuilding#space_11'), rdflib.term.URIRef('http://www.w3.org/2000/01/rdf-schema#label'), rdflib.term.Literal('Space 11'))\n",
      "(rdflib.term.URIRef('https://example.org/OurBuilding#space_3'), rdflib.term.URIRef('http://www.w3.org/2000/01/rdf-schema#label'), rdflib.term.Literal('Space 3'))\n",
      "(rdflib.term.URIRef('https://example.org/OurBuilding#building_1'), rdflib.term.URIRef('http://www.w3.org/1999/02/22-rdf-syntax-ns#type'), rdflib.term.URIRef('https://w3id.org/bot#Building'))\n",
      "(rdflib.term.URIRef('https://example.org/OurBuilding#storey_1'), rdflib.term.URIRef('http://www.w3.org/1999/02/22-rdf-syntax-ns#type'), rdflib.term.URIRef('https://w3id.org/bot#Storey'))\n",
      "(rdflib.term.URIRef('https://example.org/OurBuilding#building_1'), rdflib.term.URIRef('http://www.w3.org/2000/01/rdf-schema#label'), rdflib.term.Literal('Our building'))\n",
      "(rdflib.term.URIRef('https://example.org/OurBuilding#site_1'), rdflib.term.URIRef('https://w3id.org/bot#hasBuilding'), rdflib.term.URIRef('https://example.org/OurBuilding#building_1'))\n",
      "(rdflib.term.URIRef('https://example.org/OurBuilding#space_1'), rdflib.term.URIRef('http://www.w3.org/2000/01/rdf-schema#label'), rdflib.term.Literal('Space 1'))\n",
      "(rdflib.term.URIRef('https://example.org/OurBuilding#space_5'), rdflib.term.URIRef('http://www.w3.org/1999/02/22-rdf-syntax-ns#type'), rdflib.term.URIRef('https://w3id.org/bot#Space'))\n",
      "(rdflib.term.URIRef('https://example.org/OurBuilding#space_17'), rdflib.term.URIRef('http://www.w3.org/1999/02/22-rdf-syntax-ns#type'), rdflib.term.URIRef('https://w3id.org/bot#Space'))\n",
      "(rdflib.term.URIRef('https://example.org/OurBuilding#space_11'), rdflib.term.URIRef('http://www.w3.org/1999/02/22-rdf-syntax-ns#type'), rdflib.term.URIRef('https://w3id.org/bot#Space'))\n",
      "(rdflib.term.URIRef('https://example.org/OurBuilding#storey_2'), rdflib.term.URIRef('http://www.w3.org/1999/02/22-rdf-syntax-ns#type'), rdflib.term.URIRef('https://w3id.org/bot#Storey'))\n",
      "(rdflib.term.URIRef('https://example.org/OurBuilding#space_15'), rdflib.term.URIRef('http://www.w3.org/1999/02/22-rdf-syntax-ns#type'), rdflib.term.URIRef('https://w3id.org/bot#Space'))\n",
      "(rdflib.term.URIRef('https://example.org/OurBuilding#storey_0'), rdflib.term.URIRef('http://www.w3.org/1999/02/22-rdf-syntax-ns#type'), rdflib.term.URIRef('https://w3id.org/bot#Storey'))\n",
      "(rdflib.term.URIRef('https://example.org/OurBuilding#site_1'), rdflib.term.URIRef('http://www.w3.org/1999/02/22-rdf-syntax-ns#type'), rdflib.term.URIRef('https://w3id.org/bot#Site'))\n",
      "(rdflib.term.URIRef('https://example.org/OurBuilding#building_1'), rdflib.term.URIRef('https://w3id.org/bot#hasStorey'), rdflib.term.URIRef('https://example.org/OurBuilding#storey_1'))\n",
      "(rdflib.term.URIRef('https://example.org/OurBuilding#space_15'), rdflib.term.URIRef('http://www.w3.org/2000/01/rdf-schema#label'), rdflib.term.Literal('Space 15'))\n",
      "(rdflib.term.URIRef('https://example.org/OurBuilding#space_0'), rdflib.term.URIRef('http://www.w3.org/1999/02/22-rdf-syntax-ns#type'), rdflib.term.URIRef('https://w3id.org/bot#Space'))\n",
      "(rdflib.term.URIRef('https://example.org/OurBuilding#space_1'), rdflib.term.URIRef('http://www.w3.org/1999/02/22-rdf-syntax-ns#type'), rdflib.term.URIRef('https://w3id.org/bot#Space'))\n",
      "(rdflib.term.URIRef('https://example.org/OurBuilding#storey_1'), rdflib.term.URIRef('https://w3id.org/bot#hasSpace'), rdflib.term.URIRef('https://example.org/OurBuilding#space_13'))\n",
      "\n",
      "We have the following number of statements:\n",
      "49\n"
     ]
    }
   ],
   "source": [
    "for stmt in g:\n",
    "    print(stmt)\n",
    "\n",
    "print()\n",
    "print(\"We have the following number of statements:\")\n",
    "print(len(g))"
   ]
  },
  {
   "cell_type": "markdown",
   "metadata": {},
   "source": [
    "How many spaces do we have?"
   ]
  },
  {
   "cell_type": "code",
   "execution_count": 24,
   "metadata": {},
   "outputs": [
    {
     "name": "stdout",
     "output_type": "stream",
     "text": [
      "Found these spaces: \n",
      "https://example.org/OurBuilding#space_0\n",
      "https://example.org/OurBuilding#space_1\n",
      "https://example.org/OurBuilding#space_3\n",
      "https://example.org/OurBuilding#space_5\n",
      "https://example.org/OurBuilding#space_7\n",
      "https://example.org/OurBuilding#space_9\n",
      "https://example.org/OurBuilding#space_11\n",
      "https://example.org/OurBuilding#space_13\n",
      "https://example.org/OurBuilding#space_15\n",
      "https://example.org/OurBuilding#space_17\n",
      "https://example.org/OurBuilding#space_19\n"
     ]
    }
   ],
   "source": [
    "# Exercise: Add your SPARQL query here to list all spaces. \n",
    "\n",
    "ourQuery = \"\"\"PREFIX bot: <https://w3id.org/bot#>\n",
    "PREFIX rdf: <http://www.w3.org/1999/02/22-rdf-syntax-ns#>\n",
    "\n",
    "SELECT ?s\n",
    "WHERE{ ?s rdf:type bot:Space }\"\"\"\n",
    "\n",
    "qres = g.query(ourQuery)\n",
    "\n",
    "print( \"Found these spaces: \" )\n",
    "for row in qres:\n",
    "    print(f\"{row.s}\")"
   ]
  },
  {
   "cell_type": "markdown",
   "metadata": {},
   "source": [
    "In which storeys are what spaces?"
   ]
  },
  {
   "cell_type": "code",
   "execution_count": 35,
   "metadata": {},
   "outputs": [
    {
     "name": "stdout",
     "output_type": "stream",
     "text": [
      "Found these spaces: \n",
      "https://example.org/OurBuilding#space_0 - name: Space 0 - on storey: https://example.org/OurBuilding#storey_0\n",
      "https://example.org/OurBuilding#space_1 - name: Space 1 - on storey: https://example.org/OurBuilding#storey_0\n",
      "https://example.org/OurBuilding#space_2 - name: Space 2 - on storey: https://example.org/OurBuilding#storey_0\n",
      "https://example.org/OurBuilding#space_3 - name: Space 3 - on storey: https://example.org/OurBuilding#storey_0\n",
      "https://example.org/OurBuilding#space_4 - name: Space 4 - on storey: https://example.org/OurBuilding#storey_0\n",
      "https://example.org/OurBuilding#space_5 - name: Space 5 - on storey: https://example.org/OurBuilding#storey_0\n",
      "https://example.org/OurBuilding#space_6 - name: Space 6 - on storey: https://example.org/OurBuilding#storey_0\n",
      "https://example.org/OurBuilding#space_7 - name: Space 7 - on storey: https://example.org/OurBuilding#storey_0\n",
      "https://example.org/OurBuilding#space_8 - name: Space 8 - on storey: https://example.org/OurBuilding#storey_0\n",
      "https://example.org/OurBuilding#space_9 - name: Space 9 - on storey: https://example.org/OurBuilding#storey_1\n",
      "https://example.org/OurBuilding#space_10 - name: Space 10 - on storey: https://example.org/OurBuilding#storey_1\n",
      "https://example.org/OurBuilding#space_11 - name: Space 11 - on storey: https://example.org/OurBuilding#storey_1\n",
      "https://example.org/OurBuilding#space_12 - name: Space 12 - on storey: https://example.org/OurBuilding#storey_1\n",
      "https://example.org/OurBuilding#space_13 - name: Space 13 - on storey: https://example.org/OurBuilding#storey_1\n",
      "https://example.org/OurBuilding#space_14 - name: Space 14 - on storey: https://example.org/OurBuilding#storey_1\n",
      "https://example.org/OurBuilding#space_15 - name: Space 15 - on storey: https://example.org/OurBuilding#storey_2\n",
      "https://example.org/OurBuilding#space_16 - name: Space 16 - on storey: https://example.org/OurBuilding#storey_2\n",
      "https://example.org/OurBuilding#space_17 - name: Space 17 - on storey: https://example.org/OurBuilding#storey_2\n"
     ]
    }
   ],
   "source": [
    "ourQuery = \"\"\"PREFIX bot: <https://w3id.org/bot#>\n",
    "PREFIX rdf: <http://www.w3.org/1999/02/22-rdf-syntax-ns#>\n",
    "\n",
    "SELECT ?s ?x ?name\n",
    "WHERE{ \n",
    "    ?s rdf:type bot:Space .\n",
    "    ?s rdfs:label ?name .\n",
    "    ?x bot:hasSpace ?s\n",
    "}\"\"\"\n",
    "\n",
    "qres = g.query(ourQuery)\n",
    "\n",
    "print( \"Found these spaces: \" )\n",
    "for row in qres:\n",
    "    print(f\"{row.s} - name: {row.name} - on storey: {row.x}\")"
   ]
  },
  {
   "cell_type": "markdown",
   "metadata": {},
   "source": [
    "Now store the result in a file and examine the graph in [OntoText GraphDB](https://www.ontotext.com/products/graphdb/)."
   ]
  },
  {
   "cell_type": "code",
   "execution_count": 34,
   "metadata": {},
   "outputs": [
    {
     "name": "stdout",
     "output_type": "stream",
     "text": [
      "Created OurHouse.ttl in folder:\n",
      "c:\\Users\\20194060\\Desktop\\Git\\pipauwel\\SummerSchoolOfLDAC\\Notebooks\n"
     ]
    }
   ],
   "source": [
    "import os\n",
    "\n",
    "g.serialize(destination = \"output/OurHouse.ttl\", format = \"turtle\")\n",
    "print(\"Created output/OurHouse.ttl in folder:\")\n",
    "print(str(os.getcwd()))"
   ]
  }
 ],
 "metadata": {
  "kernelspec": {
   "display_name": "Python 3",
   "language": "python",
   "name": "python3"
  },
  "language_info": {
   "codemirror_mode": {
    "name": "ipython",
    "version": 3
   },
   "file_extension": ".py",
   "mimetype": "text/x-python",
   "name": "python",
   "nbconvert_exporter": "python",
   "pygments_lexer": "ipython3",
   "version": "3.12.0"
  }
 },
 "nbformat": 4,
 "nbformat_minor": 2
}
