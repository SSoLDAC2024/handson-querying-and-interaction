{
 "cells": [
  {
   "cell_type": "markdown",
   "metadata": {},
   "source": [
    "# Table of Contents\n",
    "\n",
    "## 1. Introduction\n",
    "\n",
    "* [1.1 Check Python Setup](1_1-Check-Python-Setup.ipynb) \n",
    "* [1.2 Create Virtual Environment](1_2-CreateVirtualEnvironment.ipynb)\n",
    "\n",
    "## 2. Basics in creating RDF graphs and querying them\n",
    "* [2.1 Exploring an RDF graph](2_1-Exploring-an-RDF-Graph.ipynb)  \n",
    "* [2.2 Create an ontology](2_2-Create-an-Ontology.ipynb)  \n",
    "* [2.3 Create your ABox](2_3-Create-your-ABox.ipynb)  \n",
    "\n",
    "## 3. Advanced RDF and OWL editing\n",
    "* [3.1 Transforming CSV data to RDF](3_1-Transforming-CSV-data-to-RDF.ipynb)  \n",
    "* [3.2 Creating LBD data from scratch](3_2-Creating-LBD-data-from-scratch.ipynb)\n",
    "* [3.3 Transforming IFC to LBD Graphs](3_3-Transforming-IFC-to-LBD.ipynb)\n",
    " "
   ]
  }
 ],
 "metadata": {
  "kernelspec": {
   "display_name": "Python 3",
   "language": "python",
   "name": "python3"
  },
  "language_info": {
   "codemirror_mode": {
    "name": "ipython",
    "version": 3
   },
   "file_extension": ".py",
   "mimetype": "text/x-python",
   "name": "python",
   "nbconvert_exporter": "python",
   "pygments_lexer": "ipython3",
   "version": "3.7.3"
  }
 },
 "nbformat": 4,
 "nbformat_minor": 2
}
